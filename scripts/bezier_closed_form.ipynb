{
 "cells": [
  {
   "cell_type": "code",
   "execution_count": 2,
   "metadata": {},
   "outputs": [],
   "source": [
    "#!/usr/bin/env python3\n",
    "import sympy as sp"
   ]
  },
  {
   "cell_type": "code",
   "execution_count": 3,
   "metadata": {},
   "outputs": [
    {
     "data": {
      "text/latex": [
       "$\\displaystyle a_{1} = \\frac{- 3 T_{1}^{2} a_{0} - 4 T_{1} T_{2} a_{0} - 2 T_{1} T_{3} a_{0} - 6 T_{1} v_{0} - T_{2}^{2} a_{0} - T_{2} T_{3} a_{0} + T_{2} T_{3} af - 4 T_{2} v_{0} - 2 T_{2} vf + T_{3}^{2} af - 2 T_{3} v_{0} - 4 T_{3} vf - 6 p_{0} + 6 pf}{6 T_{1} \\left(T_{1}^{2} + 2 T_{1} T_{2} + T_{1} T_{3} + T_{2}^{2} + T_{2} T_{3}\\right)}$"
      ],
      "text/plain": [
       "<IPython.core.display.Math object>"
      ]
     },
     "metadata": {},
     "output_type": "display_data"
    },
    {
     "data": {
      "text/latex": [
       "$\\displaystyle d_{2} = \\frac{\\frac{T_{1}^{3} T_{2} a_{0}}{3} + \\frac{T_{1}^{3} T_{3} a_{0}}{6} + \\frac{T_{1}^{2} T_{2}^{2} a_{0}}{3} + \\frac{T_{1}^{2} T_{2} T_{3} a_{0}}{3} + \\frac{T_{1}^{2} T_{2} T_{3} af}{6} + \\frac{4 T_{1}^{2} T_{2} v_{0}}{3} - \\frac{T_{1}^{2} T_{2} vf}{3} + \\frac{T_{1}^{2} T_{3}^{2} af}{6} + \\frac{2 T_{1}^{2} T_{3} v_{0}}{3} - \\frac{2 T_{1}^{2} T_{3} vf}{3} + T_{1}^{2} pf + T_{1} T_{2}^{2} v_{0} + T_{1} T_{2} T_{3} v_{0} + 2 T_{1} T_{2} p_{0} + T_{1} T_{3} p_{0} + T_{2}^{2} p_{0} + T_{2} T_{3} p_{0}}{T_{1}^{2} + 2 T_{1} T_{2} + T_{1} T_{3} + T_{2}^{2} + T_{2} T_{3}}$"
      ],
      "text/plain": [
       "<IPython.core.display.Math object>"
      ]
     },
     "metadata": {},
     "output_type": "display_data"
    },
    {
     "data": {
      "text/latex": [
       "$\\displaystyle c_{2} = \\frac{- \\frac{T_{1}^{3} a_{0}}{2} - 2 T_{1}^{2} v_{0} + \\frac{T_{1} T_{2}^{2} a_{0}}{2} + \\frac{T_{1} T_{2} T_{3} a_{0}}{2} + \\frac{T_{1} T_{2} T_{3} af}{2} - T_{1} T_{2} vf + \\frac{T_{1} T_{3}^{2} af}{2} - 2 T_{1} T_{3} vf - 3 T_{1} p_{0} + 3 T_{1} pf + T_{2}^{2} v_{0} + T_{2} T_{3} v_{0}}{T_{1}^{2} + 2 T_{1} T_{2} + T_{1} T_{3} + T_{2}^{2} + T_{2} T_{3}}$"
      ],
      "text/plain": [
       "<IPython.core.display.Math object>"
      ]
     },
     "metadata": {},
     "output_type": "display_data"
    },
    {
     "data": {
      "text/latex": [
       "$\\displaystyle a_{2} = \\frac{\\frac{T_{1}^{3} a_{0}}{6} + \\frac{2 T_{1}^{2} T_{2} a_{0}}{3} + \\frac{T_{1}^{2} T_{3} a_{0}}{3} - \\frac{T_{1}^{2} T_{3} af}{6} + \\frac{2 T_{1}^{2} v_{0}}{3} + \\frac{T_{1}^{2} vf}{3} + \\frac{T_{1} T_{2}^{2} a_{0}}{2} + \\frac{T_{1} T_{2} T_{3} a_{0}}{2} - \\frac{T_{1} T_{2} T_{3} af}{2} + 2 T_{1} T_{2} v_{0} + T_{1} T_{2} vf + \\frac{T_{1} T_{3}^{2} a_{0}}{6} - \\frac{T_{1} T_{3}^{2} af}{3} + T_{1} T_{3} v_{0} + T_{1} T_{3} vf + T_{1} p_{0} - T_{1} pf - \\frac{T_{2}^{2} T_{3} af}{2} + T_{2}^{2} v_{0} + T_{2}^{2} vf - \\frac{2 T_{2} T_{3}^{2} af}{3} + T_{2} T_{3} v_{0} + 2 T_{2} T_{3} vf + 2 T_{2} p_{0} - 2 T_{2} pf - \\frac{T_{3}^{3} af}{6} + \\frac{T_{3}^{2} v_{0}}{3} + \\frac{2 T_{3}^{2} vf}{3} + T_{3} p_{0} - T_{3} pf}{T_{2} \\left(T_{1}^{2} T_{2} + T_{1}^{2} T_{3} + 2 T_{1} T_{2}^{2} + 3 T_{1} T_{2} T_{3} + T_{1} T_{3}^{2} + T_{2}^{3} + 2 T_{2}^{2} T_{3} + T_{2} T_{3}^{2}\\right)}$"
      ],
      "text/plain": [
       "<IPython.core.display.Math object>"
      ]
     },
     "metadata": {},
     "output_type": "display_data"
    },
    {
     "data": {
      "text/latex": [
       "$\\displaystyle a_{3} = \\frac{- T_{1}^{2} a_{0} - T_{1} T_{2} a_{0} + T_{1} T_{2} af + 2 T_{1} T_{3} af - 4 T_{1} v_{0} - 2 T_{1} vf + T_{2}^{2} af + 4 T_{2} T_{3} af - 2 T_{2} v_{0} - 4 T_{2} vf + 3 T_{3}^{2} af - 6 T_{3} vf - 6 p_{0} + 6 pf}{6 T_{3} \\left(T_{1} T_{2} + T_{1} T_{3} + T_{2}^{2} + 2 T_{2} T_{3} + T_{3}^{2}\\right)}$"
      ],
      "text/plain": [
       "<IPython.core.display.Math object>"
      ]
     },
     "metadata": {},
     "output_type": "display_data"
    },
    {
     "data": {
      "text/latex": [
       "$\\displaystyle c_{3} = \\frac{- \\frac{T_{1}^{2} T_{3} a_{0}}{2} - \\frac{T_{1} T_{2} T_{3} a_{0}}{2} - \\frac{T_{1} T_{2} T_{3} af}{2} + T_{1} T_{2} vf - 2 T_{1} T_{3} v_{0} - \\frac{T_{2}^{2} T_{3} af}{2} + T_{2}^{2} vf - T_{2} T_{3} v_{0} + \\frac{T_{3}^{3} af}{2} - 2 T_{3}^{2} vf - 3 T_{3} p_{0} + 3 T_{3} pf}{T_{1} T_{2} + T_{1} T_{3} + T_{2}^{2} + 2 T_{2} T_{3} + T_{3}^{2}}$"
      ],
      "text/plain": [
       "<IPython.core.display.Math object>"
      ]
     },
     "metadata": {},
     "output_type": "display_data"
    },
    {
     "data": {
      "text/latex": [
       "$\\displaystyle d_{3} = \\frac{\\frac{T_{1}^{2} T_{3}^{2} a_{0}}{6} + \\frac{T_{1} T_{2} T_{3}^{2} a_{0}}{6} + \\frac{T_{1} T_{2} T_{3}^{2} af}{3} - T_{1} T_{2} T_{3} vf + T_{1} T_{2} pf + \\frac{T_{1} T_{3}^{3} af}{6} + \\frac{2 T_{1} T_{3}^{2} v_{0}}{3} - \\frac{2 T_{1} T_{3}^{2} vf}{3} + T_{1} T_{3} pf + \\frac{T_{2}^{2} T_{3}^{2} af}{3} - T_{2}^{2} T_{3} vf + T_{2}^{2} pf + \\frac{T_{2} T_{3}^{3} af}{3} + \\frac{T_{2} T_{3}^{2} v_{0}}{3} - \\frac{4 T_{2} T_{3}^{2} vf}{3} + 2 T_{2} T_{3} pf + T_{3}^{2} p_{0}}{T_{1} T_{2} + T_{1} T_{3} + T_{2}^{2} + 2 T_{2} T_{3} + T_{3}^{2}}$"
      ],
      "text/plain": [
       "<IPython.core.display.Math object>"
      ]
     },
     "metadata": {},
     "output_type": "display_data"
    },
    {
     "data": {
      "text/latex": [
       "$\\displaystyle \\text{Solution vector} = \\left[\\begin{matrix}\\frac{- 3 T_{1}^{2} a_{0} - 4 T_{1} T_{2} a_{0} - 2 T_{1} T_{3} a_{0} - 6 T_{1} v_{0} - T_{2}^{2} a_{0} - T_{2} T_{3} a_{0} + T_{2} T_{3} af - 4 T_{2} v_{0} - 2 T_{2} vf + T_{3}^{2} af - 2 T_{3} v_{0} - 4 T_{3} vf - 6 p_{0} + 6 pf}{6 T_{1} \\left(T_{1}^{2} + 2 T_{1} T_{2} + T_{1} T_{3} + T_{2}^{2} + T_{2} T_{3}\\right)}\\\\\\frac{\\frac{T_{1}^{3} T_{2} a_{0}}{3} + \\frac{T_{1}^{3} T_{3} a_{0}}{6} + \\frac{T_{1}^{2} T_{2}^{2} a_{0}}{3} + \\frac{T_{1}^{2} T_{2} T_{3} a_{0}}{3} + \\frac{T_{1}^{2} T_{2} T_{3} af}{6} + \\frac{4 T_{1}^{2} T_{2} v_{0}}{3} - \\frac{T_{1}^{2} T_{2} vf}{3} + \\frac{T_{1}^{2} T_{3}^{2} af}{6} + \\frac{2 T_{1}^{2} T_{3} v_{0}}{3} - \\frac{2 T_{1}^{2} T_{3} vf}{3} + T_{1}^{2} pf + T_{1} T_{2}^{2} v_{0} + T_{1} T_{2} T_{3} v_{0} + 2 T_{1} T_{2} p_{0} + T_{1} T_{3} p_{0} + T_{2}^{2} p_{0} + T_{2} T_{3} p_{0}}{T_{1}^{2} + 2 T_{1} T_{2} + T_{1} T_{3} + T_{2}^{2} + T_{2} T_{3}}\\\\\\frac{- \\frac{T_{1}^{3} a_{0}}{2} - 2 T_{1}^{2} v_{0} + \\frac{T_{1} T_{2}^{2} a_{0}}{2} + \\frac{T_{1} T_{2} T_{3} a_{0}}{2} + \\frac{T_{1} T_{2} T_{3} af}{2} - T_{1} T_{2} vf + \\frac{T_{1} T_{3}^{2} af}{2} - 2 T_{1} T_{3} vf - 3 T_{1} p_{0} + 3 T_{1} pf + T_{2}^{2} v_{0} + T_{2} T_{3} v_{0}}{T_{1}^{2} + 2 T_{1} T_{2} + T_{1} T_{3} + T_{2}^{2} + T_{2} T_{3}}\\\\\\frac{\\frac{T_{1}^{3} a_{0}}{6} + \\frac{2 T_{1}^{2} T_{2} a_{0}}{3} + \\frac{T_{1}^{2} T_{3} a_{0}}{3} - \\frac{T_{1}^{2} T_{3} af}{6} + \\frac{2 T_{1}^{2} v_{0}}{3} + \\frac{T_{1}^{2} vf}{3} + \\frac{T_{1} T_{2}^{2} a_{0}}{2} + \\frac{T_{1} T_{2} T_{3} a_{0}}{2} - \\frac{T_{1} T_{2} T_{3} af}{2} + 2 T_{1} T_{2} v_{0} + T_{1} T_{2} vf + \\frac{T_{1} T_{3}^{2} a_{0}}{6} - \\frac{T_{1} T_{3}^{2} af}{3} + T_{1} T_{3} v_{0} + T_{1} T_{3} vf + T_{1} p_{0} - T_{1} pf - \\frac{T_{2}^{2} T_{3} af}{2} + T_{2}^{2} v_{0} + T_{2}^{2} vf - \\frac{2 T_{2} T_{3}^{2} af}{3} + T_{2} T_{3} v_{0} + 2 T_{2} T_{3} vf + 2 T_{2} p_{0} - 2 T_{2} pf - \\frac{T_{3}^{3} af}{6} + \\frac{T_{3}^{2} v_{0}}{3} + \\frac{2 T_{3}^{2} vf}{3} + T_{3} p_{0} - T_{3} pf}{T_{2} \\left(T_{1}^{2} T_{2} + T_{1}^{2} T_{3} + 2 T_{1} T_{2}^{2} + 3 T_{1} T_{2} T_{3} + T_{1} T_{3}^{2} + T_{2}^{3} + 2 T_{2}^{2} T_{3} + T_{2} T_{3}^{2}\\right)}\\\\\\frac{- T_{1}^{2} a_{0} - T_{1} T_{2} a_{0} + T_{1} T_{2} af + 2 T_{1} T_{3} af - 4 T_{1} v_{0} - 2 T_{1} vf + T_{2}^{2} af + 4 T_{2} T_{3} af - 2 T_{2} v_{0} - 4 T_{2} vf + 3 T_{3}^{2} af - 6 T_{3} vf - 6 p_{0} + 6 pf}{6 T_{3} \\left(T_{1} T_{2} + T_{1} T_{3} + T_{2}^{2} + 2 T_{2} T_{3} + T_{3}^{2}\\right)}\\\\\\frac{- \\frac{T_{1}^{2} T_{3} a_{0}}{2} - \\frac{T_{1} T_{2} T_{3} a_{0}}{2} - \\frac{T_{1} T_{2} T_{3} af}{2} + T_{1} T_{2} vf - 2 T_{1} T_{3} v_{0} - \\frac{T_{2}^{2} T_{3} af}{2} + T_{2}^{2} vf - T_{2} T_{3} v_{0} + \\frac{T_{3}^{3} af}{2} - 2 T_{3}^{2} vf - 3 T_{3} p_{0} + 3 T_{3} pf}{T_{1} T_{2} + T_{1} T_{3} + T_{2}^{2} + 2 T_{2} T_{3} + T_{3}^{2}}\\\\\\frac{\\frac{T_{1}^{2} T_{3}^{2} a_{0}}{6} + \\frac{T_{1} T_{2} T_{3}^{2} a_{0}}{6} + \\frac{T_{1} T_{2} T_{3}^{2} af}{3} - T_{1} T_{2} T_{3} vf + T_{1} T_{2} pf + \\frac{T_{1} T_{3}^{3} af}{6} + \\frac{2 T_{1} T_{3}^{2} v_{0}}{3} - \\frac{2 T_{1} T_{3}^{2} vf}{3} + T_{1} T_{3} pf + \\frac{T_{2}^{2} T_{3}^{2} af}{3} - T_{2}^{2} T_{3} vf + T_{2}^{2} pf + \\frac{T_{2} T_{3}^{3} af}{3} + \\frac{T_{2} T_{3}^{2} v_{0}}{3} - \\frac{4 T_{2} T_{3}^{2} vf}{3} + 2 T_{2} T_{3} pf + T_{3}^{2} p_{0}}{T_{1} T_{2} + T_{1} T_{3} + T_{2}^{2} + 2 T_{2} T_{3} + T_{3}^{2}}\\end{matrix}\\right]$"
      ],
      "text/plain": [
       "<IPython.core.display.Math object>"
      ]
     },
     "metadata": {},
     "output_type": "display_data"
    }
   ],
   "source": [
    "import sympy as sp\n",
    "from IPython.display import display, Math\n",
    "\n",
    "# Define symbolic variables for the free parameters:\n",
    "# These are the unknowns we need to solve for:\n",
    "a1, d2, c2, a2, a3, c3, d3 = sp.symbols('a1 d2 c2 a2 a3 c3 d3', real=True)\n",
    "\n",
    "# Define symbolic variables for the given boundary data:\n",
    "p0, v0, a0, pf, vf, af = sp.symbols('p0 v0 a0 pf vf af', real=True)\n",
    "T1, T2, T3 = sp.symbols('T1 T2 T3', real=True)\n",
    "\n",
    "# --- Set up the equations ---\n",
    "\n",
    "# Equation 1: p1(T1)=p2(0)\n",
    "# a1*T1^3 + (a0/2)*T1^2 + v0*T1 + p0 - d2 = 0\n",
    "eq1 = sp.Eq(a1 * T1**3 + (a0/2) * T1**2 + v0 * T1 + p0 - d2, 0)\n",
    "\n",
    "# Equation 2: p1'(T1)=p2'(0)\n",
    "# 3*a1*T1^2 + a0*T1 + v0 - c2 = 0\n",
    "eq2 = sp.Eq(3 * a1 * T1**2 + a0 * T1 + v0 - c2, 0)\n",
    "\n",
    "# Equation 3: p2(T2)=p3(0)\n",
    "# a2*T2^3 + (3*a1*T1 + a0/2)*T2^2 + c2*T2 + d2 - d3 = 0\n",
    "eq3 = sp.Eq(a2 * T2**3 + (3 * a1 * T1 + a0/2) * T2**2 + c2 * T2 + d2 - d3, 0)\n",
    "\n",
    "# Equation 4: p2'(T2)=p3'(0)\n",
    "# 3*a2*T2^2 + 2*(3*a1*T1 + a0/2)*T2 + c2 - c3 = 0\n",
    "eq4 = sp.Eq(3 * a2 * T2**2 + 2 * (3 * a1 * T1 + a0/2) * T2 + c2 - c3, 0)\n",
    "\n",
    "# Equation 5: p3(T3)=pf\n",
    "# a3*T3^3 + (3*a2*T2+3*a1*T1+a0/2)*T3^2 + c3*T3 + d3 - pf = 0\n",
    "eq5 = sp.Eq(a3 * T3**3 + (3 * a2 * T2 + 3 * a1 * T1 + a0/2) * T3**2 + c3 * T3 + d3 - pf, 0)\n",
    "\n",
    "# Equation 6: p3'(T3)=vf\n",
    "# 3*a3*T3^2 + 2*(3*a2*T2+3*a1*T1+a0/2)*T3 + c3 - vf = 0\n",
    "eq6 = sp.Eq(3 * a3 * T3**2 + 2 * (3 * a2 * T2 + 3 * a1 * T1 + a0/2) * T3 + c3 - vf, 0)\n",
    "\n",
    "# Equation 7: p3''(T3)=af\n",
    "# 6*a3*T3 + 2*(3*a2*T2+3*a1*T1+a0/2) - af = 0\n",
    "eq7 = sp.Eq(6 * a3 * T3 + 2 * (3 * a2 * T2 + 3 * a1 * T1 + a0/2) - af, 0)\n",
    "\n",
    "# Solve the system symbolically for [a1, d2, c2, a2, a3, c3, d3]\n",
    "solution = sp.solve([eq1, eq2, eq3, eq4, eq5, eq6, eq7],\n",
    "                      (a1, d2, c2, a2, a3, c3, d3), dict=True)\n",
    "\n",
    "# Simplify the solution expressions\n",
    "sol = {var: sp.simplify(solution[0][var]) for var in (a1, d2, c2, a2, a3, c3, d3)}\n",
    "\n",
    "# --- Display the solutions in LaTeX format ---\n",
    "for var in (a1, d2, c2, a2, a3, c3, d3):\n",
    "    display(Math(r\"%s = %s\" % (sp.latex(var), sp.latex(sol[var]))))\n",
    "\n",
    "# Optionally, display the full solution vector:\n",
    "sol_vector = sp.Matrix([sol[a1], sol[d2], sol[c2], sol[a2], sol[a3], sol[c3], sol[d3]])\n",
    "display(Math(r\"\\text{Solution vector} = %s\" % sp.latex(sol_vector)))\n"
   ]
  },
  {
   "cell_type": "code",
   "execution_count": 4,
   "metadata": {},
   "outputs": [
    {
     "name": "stdout",
     "output_type": "stream",
     "text": [
      "// Closed-form expressions for composite cubic Bézier coefficients (one coordinate)\n",
      "// Segment 1:\n",
      "double d1 = p0;\n",
      "double c1 = v0;\n",
      "double b1 = (1.0/2.0)*a0;\n",
      "double a1 = (1.0/6.0)*(-3*pow(T1, 2)*a0 - 4*T1*T2*a0 - 2*T1*T3*a0 - 6*T1*v0 - pow(T2, 2)*a0 - T2*T3*a0 + T2*T3*af - 4*T2*v0 - 2*T2*vf + pow(T3, 2)*af - 2*T3*v0 - 4*T3*vf - 6*p0 + 6*pf)/(T1*(pow(T1, 2) + 2*T1*T2 + T1*T3 + pow(T2, 2) + T2*T3));\n",
      "// Segment 2:\n",
      "double d2 = ((1.0/3.0)*pow(T1, 3)*T2*a0 + (1.0/6.0)*pow(T1, 3)*T3*a0 + (1.0/3.0)*pow(T1, 2)*pow(T2, 2)*a0 + (1.0/3.0)*pow(T1, 2)*T2*T3*a0 + (1.0/6.0)*pow(T1, 2)*T2*T3*af + (4.0/3.0)*pow(T1, 2)*T2*v0 - 1.0/3.0*pow(T1, 2)*T2*vf + (1.0/6.0)*pow(T1, 2)*pow(T3, 2)*af + (2.0/3.0)*pow(T1, 2)*T3*v0 - 2.0/3.0*pow(T1, 2)*T3*vf + pow(T1, 2)*pf + T1*pow(T2, 2)*v0 + T1*T2*T3*v0 + 2*T1*T2*p0 + T1*T3*p0 + pow(T2, 2)*p0 + T2*T3*p0)/(pow(T1, 2) + 2*T1*T2 + T1*T3 + pow(T2, 2) + T2*T3);\n",
      "double c2 = (-1.0/2.0*pow(T1, 3)*a0 - 2*pow(T1, 2)*v0 + (1.0/2.0)*T1*pow(T2, 2)*a0 + (1.0/2.0)*T1*T2*T3*a0 + (1.0/2.0)*T1*T2*T3*af - T1*T2*vf + (1.0/2.0)*T1*pow(T3, 2)*af - 2*T1*T3*vf - 3*T1*p0 + 3*T1*pf + pow(T2, 2)*v0 + T2*T3*v0)/(pow(T1, 2) + 2*T1*T2 + T1*T3 + pow(T2, 2) + T2*T3);\n",
      "double b2 = (1.0/2.0)*a0 + (1.0/2.0)*(-3*pow(T1, 2)*a0 - 4*T1*T2*a0 - 2*T1*T3*a0 - 6*T1*v0 - pow(T2, 2)*a0 - T2*T3*a0 + T2*T3*af - 4*T2*v0 - 2*T2*vf + pow(T3, 2)*af - 2*T3*v0 - 4*T3*vf - 6*p0 + 6*pf)/(pow(T1, 2) + 2*T1*T2 + T1*T3 + pow(T2, 2) + T2*T3);\n",
      "double a2 = ((1.0/6.0)*pow(T1, 3)*a0 + (2.0/3.0)*pow(T1, 2)*T2*a0 + (1.0/3.0)*pow(T1, 2)*T3*a0 - 1.0/6.0*pow(T1, 2)*T3*af + (2.0/3.0)*pow(T1, 2)*v0 + (1.0/3.0)*pow(T1, 2)*vf + (1.0/2.0)*T1*pow(T2, 2)*a0 + (1.0/2.0)*T1*T2*T3*a0 - 1.0/2.0*T1*T2*T3*af + 2*T1*T2*v0 + T1*T2*vf + (1.0/6.0)*T1*pow(T3, 2)*a0 - 1.0/3.0*T1*pow(T3, 2)*af + T1*T3*v0 + T1*T3*vf + T1*p0 - T1*pf - 1.0/2.0*pow(T2, 2)*T3*af + pow(T2, 2)*v0 + pow(T2, 2)*vf - 2.0/3.0*T2*pow(T3, 2)*af + T2*T3*v0 + 2*T2*T3*vf + 2*T2*p0 - 2*T2*pf - 1.0/6.0*pow(T3, 3)*af + (1.0/3.0)*pow(T3, 2)*v0 + (2.0/3.0)*pow(T3, 2)*vf + T3*p0 - T3*pf)/(T2*(pow(T1, 2)*T2 + pow(T1, 2)*T3 + 2*T1*pow(T2, 2) + 3*T1*T2*T3 + T1*pow(T3, 2) + pow(T2, 3) + 2*pow(T2, 2)*T3 + T2*pow(T3, 2)));\n",
      "// Segment 3:\n",
      "double d3 = ((1.0/6.0)*pow(T1, 2)*pow(T3, 2)*a0 + (1.0/6.0)*T1*T2*pow(T3, 2)*a0 + (1.0/3.0)*T1*T2*pow(T3, 2)*af - T1*T2*T3*vf + T1*T2*pf + (1.0/6.0)*T1*pow(T3, 3)*af + (2.0/3.0)*T1*pow(T3, 2)*v0 - 2.0/3.0*T1*pow(T3, 2)*vf + T1*T3*pf + (1.0/3.0)*pow(T2, 2)*pow(T3, 2)*af - pow(T2, 2)*T3*vf + pow(T2, 2)*pf + (1.0/3.0)*T2*pow(T3, 3)*af + (1.0/3.0)*T2*pow(T3, 2)*v0 - 4.0/3.0*T2*pow(T3, 2)*vf + 2*T2*T3*pf + pow(T3, 2)*p0)/(T1*T2 + T1*T3 + pow(T2, 2) + 2*T2*T3 + pow(T3, 2));\n",
      "double c3 = (-1.0/2.0*pow(T1, 2)*T3*a0 - 1.0/2.0*T1*T2*T3*a0 - 1.0/2.0*T1*T2*T3*af + T1*T2*vf - 2*T1*T3*v0 - 1.0/2.0*pow(T2, 2)*T3*af + pow(T2, 2)*vf - T2*T3*v0 + (1.0/2.0)*pow(T3, 3)*af - 2*pow(T3, 2)*vf - 3*T3*p0 + 3*T3*pf)/(T1*T2 + T1*T3 + pow(T2, 2) + 2*T2*T3 + pow(T3, 2));\n",
      "double b3 = (1.0/2.0)*a0 + 3*((1.0/6.0)*pow(T1, 3)*a0 + (2.0/3.0)*pow(T1, 2)*T2*a0 + (1.0/3.0)*pow(T1, 2)*T3*a0 - 1.0/6.0*pow(T1, 2)*T3*af + (2.0/3.0)*pow(T1, 2)*v0 + (1.0/3.0)*pow(T1, 2)*vf + (1.0/2.0)*T1*pow(T2, 2)*a0 + (1.0/2.0)*T1*T2*T3*a0 - 1.0/2.0*T1*T2*T3*af + 2*T1*T2*v0 + T1*T2*vf + (1.0/6.0)*T1*pow(T3, 2)*a0 - 1.0/3.0*T1*pow(T3, 2)*af + T1*T3*v0 + T1*T3*vf + T1*p0 - T1*pf - 1.0/2.0*pow(T2, 2)*T3*af + pow(T2, 2)*v0 + pow(T2, 2)*vf - 2.0/3.0*T2*pow(T3, 2)*af + T2*T3*v0 + 2*T2*T3*vf + 2*T2*p0 - 2*T2*pf - 1.0/6.0*pow(T3, 3)*af + (1.0/3.0)*pow(T3, 2)*v0 + (2.0/3.0)*pow(T3, 2)*vf + T3*p0 - T3*pf)/(pow(T1, 2)*T2 + pow(T1, 2)*T3 + 2*T1*pow(T2, 2) + 3*T1*T2*T3 + T1*pow(T3, 2) + pow(T2, 3) + 2*pow(T2, 2)*T3 + T2*pow(T3, 2)) + (1.0/2.0)*(-3*pow(T1, 2)*a0 - 4*T1*T2*a0 - 2*T1*T3*a0 - 6*T1*v0 - pow(T2, 2)*a0 - T2*T3*a0 + T2*T3*af - 4*T2*v0 - 2*T2*vf + pow(T3, 2)*af - 2*T3*v0 - 4*T3*vf - 6*p0 + 6*pf)/(pow(T1, 2) + 2*T1*T2 + T1*T3 + pow(T2, 2) + T2*T3);\n",
      "double a3 = (1.0/6.0)*(-pow(T1, 2)*a0 - T1*T2*a0 + T1*T2*af + 2*T1*T3*af - 4*T1*v0 - 2*T1*vf + pow(T2, 2)*af + 4*T2*T3*af - 2*T2*v0 - 4*T2*vf + 3*pow(T3, 2)*af - 6*T3*vf - 6*p0 + 6*pf)/(T3*(T1*T2 + T1*T3 + pow(T2, 2) + 2*T2*T3 + pow(T3, 2)));\n"
     ]
    }
   ],
   "source": [
    "import sympy as sp\n",
    "from sympy import symbols, Eq, solve, simplify, ccode\n",
    "\n",
    "# Define symbolic variables for the free unknowns:\n",
    "a1, d2, c2, a2, a3, c3, d3 = sp.symbols('a1 d2 c2 a2 a3 c3 d3', real=True)\n",
    "\n",
    "# Define symbols for the given boundary data:\n",
    "p0, v0, a0, pf, vf, af = sp.symbols('p0 v0 a0 pf vf af', real=True)\n",
    "T1, T2, T3 = sp.symbols('T1 T2 T3', real=True)\n",
    "\n",
    "# -------------------------\n",
    "# Set up the 7 equations:\n",
    "# Equation 1: p1(T1)=p2(0)\n",
    "eq1 = sp.Eq(a1 * T1**3 + (a0/2) * T1**2 + v0 * T1 + p0 - d2, 0)\n",
    "\n",
    "# Equation 2: p1'(T1)=p2'(0)\n",
    "eq2 = sp.Eq(3 * a1 * T1**2 + a0 * T1 + v0 - c2, 0)\n",
    "\n",
    "# Equation 3: p2(T2)=p3(0)\n",
    "eq3 = sp.Eq(a2 * T2**3 + (3*a1*T1 + a0/2) * T2**2 + c2 * T2 + d2 - d3, 0)\n",
    "\n",
    "# Equation 4: p2'(T2)=p3'(0)\n",
    "eq4 = sp.Eq(3 * a2 * T2**2 + 2*(3*a1*T1 + a0/2) * T2 + c2 - c3, 0)\n",
    "\n",
    "# Equation 5: p3(T3)=pf\n",
    "eq5 = sp.Eq(a3 * T3**3 + (3*a2*T2 + 3*a1*T1 + a0/2) * T3**2 + c3 * T3 + d3 - pf, 0)\n",
    "\n",
    "# Equation 6: p3'(T3)=vf\n",
    "eq6 = sp.Eq(3 * a3 * T3**2 + 2*(3*a2*T2 + 3*a1*T1 + a0/2) * T3 + c3 - vf, 0)\n",
    "\n",
    "# Equation 7: p3''(T3)=af\n",
    "eq7 = sp.Eq(6 * a3 * T3 + 2*(3*a2*T2 + 3*a1*T1 + a0/2) - af, 0)\n",
    "\n",
    "# Solve the system for X = [a1, d2, c2, a2, a3, c3, d3]\n",
    "solution = sp.solve([eq1, eq2, eq3, eq4, eq5, eq6, eq7],\n",
    "                      (a1, d2, c2, a2, a3, c3, d3), dict=True)\n",
    "sol = {var: simplify(solution[0][var]) for var in (a1, d2, c2, a2, a3, c3, d3)}\n",
    "\n",
    "# -------------------------\n",
    "# Now, the remaining coefficients from the boundary conditions and continuity:\n",
    "# For segment 1:\n",
    "d1_expr = p0           # p1(0) = d1 = p0\n",
    "c1_expr = v0           # p1'(0) = c1 = v0\n",
    "b1_expr = a0/sp.Integer(2)  # p1''(0) = 2*b1 = a0  =>  b1 = a0/2\n",
    "\n",
    "# For segment 2:\n",
    "# b2 is determined by the continuity at the first joint:\n",
    "b2_expr = 3*sol[a1]*T1 + a0/sp.Integer(2)\n",
    "\n",
    "# For segment 3:\n",
    "# b3 is determined by the continuity at the second joint:\n",
    "b3_expr = 3*sol[a2]*T2 + b2_expr  # = 3*a2*T2 + 3*a1*T1 + a0/2\n",
    "\n",
    "# -------------------------\n",
    "# Output all 12 coefficients (one coordinate) in C++ code format:\n",
    "print(\"// Closed-form expressions for composite cubic Bézier coefficients (one coordinate)\")\n",
    "print(\"// Segment 1:\")\n",
    "print(\"double d1 = %s;\" % ccode(d1_expr))\n",
    "print(\"double c1 = %s;\" % ccode(c1_expr))\n",
    "print(\"double b1 = %s;\" % ccode(b1_expr))\n",
    "print(\"double a1 = %s;\" % ccode(sol[a1]))\n",
    "print(\"// Segment 2:\")\n",
    "print(\"double d2 = %s;\" % ccode(sol[d2]))\n",
    "print(\"double c2 = %s;\" % ccode(sol[c2]))\n",
    "print(\"double b2 = %s;\" % ccode(b2_expr))\n",
    "print(\"double a2 = %s;\" % ccode(sol[a2]))\n",
    "print(\"// Segment 3:\")\n",
    "print(\"double d3 = %s;\" % ccode(sol[d3]))\n",
    "print(\"double c3 = %s;\" % ccode(sol[c3]))\n",
    "print(\"double b3 = %s;\" % ccode(b3_expr))\n",
    "print(\"double a3 = %s;\" % ccode(sol[a3]))\n"
   ]
  },
  {
   "cell_type": "code",
   "execution_count": null,
   "metadata": {},
   "outputs": [],
   "source": []
  },
  {
   "cell_type": "code",
   "execution_count": 1,
   "metadata": {},
   "outputs": [
    {
     "name": "stdout",
     "output_type": "stream",
     "text": [
      "// Closed-form solution for the cubic polynomial coefficients:\n",
      "d = Q0;  // d = Q0\n",
      "a = -9.0/2.0*Q0 + (27.0/2.0)*Q1 - 27.0/2.0*Q2 + (9.0/2.0)*Q3;\n",
      "b = 9*Q0 - 45.0/2.0*Q1 + 18*Q2 - 9.0/2.0*Q3;\n",
      "c = -11.0/2.0*Q0 + 9*Q1 - 9.0/2.0*Q2 + Q3;\n"
     ]
    }
   ],
   "source": [
    "# Initial guess for a cubic polynomial:\n",
    "\n",
    "\n",
    "import sympy as sp\n",
    "\n",
    "# Define symbols\n",
    "a, b, c, d = sp.symbols('a b c d')\n",
    "Q0, Q1, Q2, Q3 = sp.symbols('Q0 Q1 Q2 Q3')\n",
    "t = sp.symbols('t')\n",
    "\n",
    "# Define the equations for the cubic polynomial p(t) = a*t^3 + b*t^2 + c*t + d\n",
    "eq1 = sp.Eq(d, Q0)  # at t = 0: p(0) = d = Q0\n",
    "eq2 = sp.Eq(a*(1/sp.Integer(27)) + b*(1/sp.Integer(9)) + c*(1/sp.Integer(3)) + d, Q1)  # at t = 1/3\n",
    "eq3 = sp.Eq(a*(8/sp.Integer(27)) + b*(4/sp.Integer(9)) + c*(2/sp.Integer(3)) + d, Q2)   # at t = 2/3\n",
    "eq4 = sp.Eq(a + b + c + d, Q3)  # at t = 1\n",
    "\n",
    "# Solve the system\n",
    "solution = sp.solve([eq1, eq2, eq3, eq4], (a, b, c, d), dict=True)[0]\n",
    "\n",
    "# Generate C++ compatible code strings for each coefficient\n",
    "cpp_a = sp.ccode(solution[a])\n",
    "cpp_b = sp.ccode(solution[b])\n",
    "cpp_c = sp.ccode(solution[c])\n",
    "cpp_d = sp.ccode(solution[d])\n",
    "\n",
    "print(\"// Closed-form solution for the cubic polynomial coefficients:\")\n",
    "print(\"d = \" + cpp_d + \";  // d = Q0\")\n",
    "print(\"a = \" + cpp_a + \";\")\n",
    "print(\"b = \" + cpp_b + \";\")\n",
    "print(\"c = \" + cpp_c + \";\")\n"
   ]
  },
  {
   "cell_type": "code",
   "execution_count": null,
   "metadata": {},
   "outputs": [],
   "source": []
  }
 ],
 "metadata": {
  "kernelspec": {
   "display_name": "dynus",
   "language": "python",
   "name": "python3"
  },
  "language_info": {
   "codemirror_mode": {
    "name": "ipython",
    "version": 3
   },
   "file_extension": ".py",
   "mimetype": "text/x-python",
   "name": "python",
   "nbconvert_exporter": "python",
   "pygments_lexer": "ipython3",
   "version": "3.10.15"
  }
 },
 "nbformat": 4,
 "nbformat_minor": 2
}
