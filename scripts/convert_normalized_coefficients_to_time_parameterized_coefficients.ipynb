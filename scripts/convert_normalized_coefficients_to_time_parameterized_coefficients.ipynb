{
 "cells": [
  {
   "cell_type": "code",
   "execution_count": 1,
   "metadata": {},
   "outputs": [
    {
     "name": "stdout",
     "output_type": "stream",
     "text": [
      "// Coefficients for p(t) = A*t^3 + B*t^2 + C*t + D\n",
      "double A = a/pow(L, 3);\n",
      "double B = b/pow(L, 2) - 3*T0*a/pow(L, 3);\n",
      "double C = c/L - 2*T0*b/pow(L, 2) + 3*pow(T0, 2)*a/pow(L, 3);\n",
      "double D = d - T0*c/L + pow(T0, 2)*b/pow(L, 2) - pow(T0, 3)*a/pow(L, 3);\n"
     ]
    }
   ],
   "source": [
    "import sympy as sp\n",
    "from sympy import symbols, expand, simplify, ccode\n",
    "\n",
    "# Define symbolic variables.\n",
    "# t is the physical time, T0 is the starting time of the segment, and L is the segment duration.\n",
    "t, T0, L = symbols('t T0 L', real=True)\n",
    "a, b, c, d = symbols('a b c d', real=True)\n",
    "\n",
    "# The normalized parameter:\n",
    "s = (t - T0) / L\n",
    "\n",
    "# The normalized cubic polynomial:\n",
    "p_s = a * s**3 + b * s**2 + c * s + d\n",
    "\n",
    "# Express p in terms of t.\n",
    "p_t = sp.expand(p_s)\n",
    "p_t = simplify(p_t)\n",
    "\n",
    "# The polynomial p(t) should be of the form: A*t^3 + B*t^2 + C*t + D.\n",
    "A = sp.expand(p_t).coeff(t, 3)\n",
    "B = sp.expand(p_t).coeff(t, 2)\n",
    "C = sp.expand(p_t).coeff(t, 1)\n",
    "D = sp.expand(p_t).coeff(t, 0)\n",
    "\n",
    "# Print the coefficients in C++ format:\n",
    "print(\"// Coefficients for p(t) = A*t^3 + B*t^2 + C*t + D\")\n",
    "print(\"double A = \" + ccode(A) + \";\")\n",
    "print(\"double B = \" + ccode(B) + \";\")\n",
    "print(\"double C = \" + ccode(C) + \";\")\n",
    "print(\"double D = \" + ccode(D) + \";\")\n"
   ]
  },
  {
   "cell_type": "code",
   "execution_count": null,
   "metadata": {},
   "outputs": [],
   "source": []
  }
 ],
 "metadata": {
  "kernelspec": {
   "display_name": "dynus",
   "language": "python",
   "name": "python3"
  },
  "language_info": {
   "codemirror_mode": {
    "name": "ipython",
    "version": 3
   },
   "file_extension": ".py",
   "mimetype": "text/x-python",
   "name": "python",
   "nbconvert_exporter": "python",
   "pygments_lexer": "ipython3",
   "version": "3.10.15"
  }
 },
 "nbformat": 4,
 "nbformat_minor": 2
}
