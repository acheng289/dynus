{
 "cells": [
  {
   "cell_type": "code",
   "execution_count": 1,
   "metadata": {},
   "outputs": [],
   "source": [
    "import os\n",
    "from rosbag2_py import SequentialReader, SequentialWriter, StorageOptions, ConverterOptions\n",
    "from rclpy.serialization import deserialize_message, serialize_message\n",
    "from visualization_msgs.msg import Marker\n"
   ]
  },
  {
   "cell_type": "code",
   "execution_count": 2,
   "metadata": {},
   "outputs": [],
   "source": [
    "# Function to update IDs in the marker messages\n",
    "def update_marker_id(marker_msg, id_offset):\n",
    "    marker_msg.id += id_offset\n",
    "    return marker_msg"
   ]
  },
  {
   "cell_type": "code",
   "execution_count": null,
   "metadata": {},
   "outputs": [
    {
     "name": "stderr",
     "output_type": "stream",
     "text": [
      "[INFO] [1736133313.365345551] [rosbag2_storage]: Opened database '/media/kkondo/T7/dynus/tro_paper/global_planner_benchmarking/bags/dgp/num_0/num_0_0.db3' for READ_ONLY.\n",
      "[INFO] [1736133317.890979151] [rosbag2_storage]: Opened database '/media/kkondo/T7/dynus/tro_paper/global_planner_benchmarking/bags/dgp/processed/num_0_shareable.db3/num_0_shareable.db3_0.db3' for READ_WRITE.\n"
     ]
    },
    {
     "name": "stdout",
     "output_type": "stream",
     "text": [
      "Last ID in num_0_shareable.db3: 3641\n"
     ]
    },
    {
     "name": "stderr",
     "output_type": "stream",
     "text": [
      "[INFO] [1736133397.273192793] [rosbag2_storage]: Opened database '/media/kkondo/T7/dynus/tro_paper/global_planner_benchmarking/bags/dgp/num_1/num_1_0.db3' for READ_ONLY.\n",
      "[INFO] [1736133401.962563312] [rosbag2_storage]: Opened database '/media/kkondo/T7/dynus/tro_paper/global_planner_benchmarking/bags/dgp/processed/num_1_shareable.db3/num_1_shareable.db3_0.db3' for READ_WRITE.\n"
     ]
    },
    {
     "name": "stdout",
     "output_type": "stream",
     "text": [
      "Last ID in num_1_shareable.db3: 7038\n"
     ]
    },
    {
     "name": "stderr",
     "output_type": "stream",
     "text": [
      "[INFO] [1736133472.225808906] [rosbag2_storage]: Opened database '/media/kkondo/T7/dynus/tro_paper/global_planner_benchmarking/bags/dgp/num_2/num_2_0.db3' for READ_ONLY.\n",
      "[INFO] [1736133477.657677345] [rosbag2_storage]: Opened database '/media/kkondo/T7/dynus/tro_paper/global_planner_benchmarking/bags/dgp/processed/num_2_shareable.db3/num_2_shareable.db3_0.db3' for READ_WRITE.\n"
     ]
    },
    {
     "name": "stdout",
     "output_type": "stream",
     "text": [
      "Last ID in num_2_shareable.db3: 10584\n"
     ]
    },
    {
     "name": "stderr",
     "output_type": "stream",
     "text": [
      "[INFO] [1736133549.729650066] [rosbag2_storage]: Opened database '/media/kkondo/T7/dynus/tro_paper/global_planner_benchmarking/bags/dgp/num_3/num_3_0.db3' for READ_ONLY.\n",
      "[INFO] [1736133554.666899972] [rosbag2_storage]: Opened database '/media/kkondo/T7/dynus/tro_paper/global_planner_benchmarking/bags/dgp/processed/num_3_shareable.db3/num_3_shareable.db3_0.db3' for READ_WRITE.\n"
     ]
    },
    {
     "name": "stdout",
     "output_type": "stream",
     "text": [
      "Last ID in num_3_shareable.db3: 14239\n"
     ]
    },
    {
     "name": "stderr",
     "output_type": "stream",
     "text": [
      "[INFO] [1736133630.361631218] [rosbag2_storage]: Opened database '/media/kkondo/T7/dynus/tro_paper/global_planner_benchmarking/bags/dgp/num_4/num_4_0.db3' for READ_ONLY.\n",
      "[INFO] [1736133633.895496160] [rosbag2_storage]: Opened database '/media/kkondo/T7/dynus/tro_paper/global_planner_benchmarking/bags/dgp/processed/num_4_shareable.db3/num_4_shareable.db3_0.db3' for READ_WRITE.\n"
     ]
    },
    {
     "name": "stdout",
     "output_type": "stream",
     "text": [
      "Last ID in num_4_shareable.db3: 17813\n"
     ]
    },
    {
     "name": "stderr",
     "output_type": "stream",
     "text": [
      "[INFO] [1736133706.416637930] [rosbag2_storage]: Opened database '/media/kkondo/T7/dynus/tro_paper/global_planner_benchmarking/bags/dgp/num_5/num_5_0.db3' for READ_ONLY.\n",
      "[INFO] [1736133710.168373502] [rosbag2_storage]: Opened database '/media/kkondo/T7/dynus/tro_paper/global_planner_benchmarking/bags/dgp/processed/num_5_shareable.db3/num_5_shareable.db3_0.db3' for READ_WRITE.\n"
     ]
    },
    {
     "name": "stdout",
     "output_type": "stream",
     "text": [
      "Last ID in num_5_shareable.db3: 21641\n"
     ]
    },
    {
     "name": "stderr",
     "output_type": "stream",
     "text": [
      "[INFO] [1736133786.418974754] [rosbag2_storage]: Opened database '/media/kkondo/T7/dynus/tro_paper/global_planner_benchmarking/bags/dgp/num_6/num_6_0.db3' for READ_ONLY.\n",
      "[INFO] [1736133791.418853937] [rosbag2_storage]: Opened database '/media/kkondo/T7/dynus/tro_paper/global_planner_benchmarking/bags/dgp/processed/num_6_shareable.db3/num_6_shareable.db3_0.db3' for READ_WRITE.\n"
     ]
    },
    {
     "name": "stdout",
     "output_type": "stream",
     "text": [
      "Last ID in num_6_shareable.db3: 25042\n"
     ]
    },
    {
     "name": "stderr",
     "output_type": "stream",
     "text": [
      "[INFO] [1736133860.029455721] [rosbag2_storage]: Opened database '/media/kkondo/T7/dynus/tro_paper/global_planner_benchmarking/bags/dgp/num_7/num_7_0.db3' for READ_ONLY.\n",
      "[INFO] [1736133865.509380856] [rosbag2_storage]: Opened database '/media/kkondo/T7/dynus/tro_paper/global_planner_benchmarking/bags/dgp/processed/num_7_shareable.db3/num_7_shareable.db3_0.db3' for READ_WRITE.\n"
     ]
    },
    {
     "name": "stdout",
     "output_type": "stream",
     "text": [
      "Last ID in num_7_shareable.db3: 28538\n"
     ]
    },
    {
     "name": "stderr",
     "output_type": "stream",
     "text": [
      "[INFO] [1736133933.669173718] [rosbag2_storage]: Opened database '/media/kkondo/T7/dynus/tro_paper/global_planner_benchmarking/bags/dgp/num_8/num_8_0.db3' for READ_ONLY.\n",
      "[INFO] [1736133937.965454502] [rosbag2_storage]: Opened database '/media/kkondo/T7/dynus/tro_paper/global_planner_benchmarking/bags/dgp/processed/num_8_shareable.db3/num_8_shareable.db3_0.db3' for READ_WRITE.\n"
     ]
    },
    {
     "name": "stdout",
     "output_type": "stream",
     "text": [
      "Last ID in num_8_shareable.db3: 31844\n"
     ]
    },
    {
     "name": "stderr",
     "output_type": "stream",
     "text": [
      "[INFO] [1736134008.598699366] [rosbag2_storage]: Opened database '/media/kkondo/T7/dynus/tro_paper/global_planner_benchmarking/bags/dgp/num_9/num_9_0.db3' for READ_ONLY.\n",
      "[INFO] [1736134012.510660864] [rosbag2_storage]: Opened database '/media/kkondo/T7/dynus/tro_paper/global_planner_benchmarking/bags/dgp/processed/num_9_shareable.db3/num_9_shareable.db3_0.db3' for READ_WRITE.\n"
     ]
    },
    {
     "name": "stdout",
     "output_type": "stream",
     "text": [
      "Last ID in num_9_shareable.db3: 35270\n"
     ]
    },
    {
     "name": "stderr",
     "output_type": "stream",
     "text": [
      "[INFO] [1736134079.608873132] [rosbag2_storage]: Opened database '/media/kkondo/T7/dynus/tro_paper/global_planner_benchmarking/bags/dgp/processed/num_0_shareable.db3/num_0_shareable.db3_0.db3' for READ_ONLY.\n",
      "[INFO] [1736134079.623513733] [rosbag2_storage]: Opened database '/media/kkondo/T7/dynus/tro_paper/global_planner_benchmarking/bags/dgp/processed/processed_shareable.db3/processed_shareable.db3_0.db3' for READ_WRITE.\n"
     ]
    },
    {
     "name": "stdout",
     "output_type": "stream",
     "text": [
      "Last ID in processed_shareable.db3: 38912\n",
      "Processed all bags and saved in /media/kkondo/T7/dynus/tro_paper/global_planner_benchmarking/bags/dgp/processed\n"
     ]
    }
   ],
   "source": [
    "# Paths\n",
    "input_folder = \"/media/kkondo/T7/dynus/tro_paper/global_planner_benchmarking/bags/dgp\"\n",
    "output_folder = os.path.join(input_folder, \"processed\")\n",
    "os.makedirs(output_folder, exist_ok=True)\n",
    "\n",
    "# Iterate through all folders in the input folder\n",
    "folders = [f for f in os.listdir(input_folder) if os.path.isdir(os.path.join(input_folder, f))]\n",
    "\n",
    "id_offset = 0\n",
    "\n",
    "for folder in folders:\n",
    "    input_folder_path = os.path.join(input_folder, folder)\n",
    "    db3_files = [f for f in os.listdir(input_folder_path) if f.endswith(\".db3\")]\n",
    "\n",
    "    if not db3_files:\n",
    "        print(f\"No .db3 files found in folder: {folder}\")\n",
    "        continue\n",
    "\n",
    "    db3_file = db3_files[0]  # Assuming one .db3 file per folder\n",
    "    input_bag_path = os.path.join(input_folder_path, db3_file)\n",
    "    output_bag_name = f\"{folder}_shareable.db3\"\n",
    "    output_bag_path = os.path.join(output_folder, output_bag_name)\n",
    "\n",
    "    # Set up reader and writer\n",
    "    reader = SequentialReader()\n",
    "    reader.open(StorageOptions(uri=input_bag_path, storage_id=\"sqlite3\"),\n",
    "                ConverterOptions(input_serialization_format=\"cdr\", output_serialization_format=\"cdr\"))\n",
    "    \n",
    "    writer = SequentialWriter()\n",
    "    writer.open(StorageOptions(uri=output_bag_path, storage_id=\"sqlite3\"),\n",
    "                ConverterOptions(input_serialization_format=\"cdr\", output_serialization_format=\"cdr\"))\n",
    "    \n",
    "    # Register all topics for writing\n",
    "    for topic_metadata in reader.get_all_topics_and_types():\n",
    "        writer.create_topic(topic_metadata)\n",
    "\n",
    "    while reader.has_next():\n",
    "        (topic, data, timestamp) = reader.read_next()\n",
    "        \n",
    "        if topic == \"/NX01/actual_traj\":  # Replace with your actual Marker topic name\n",
    "            marker_msg = deserialize_message(data, Marker)\n",
    "            updated_marker_msg = update_marker_id(marker_msg, id_offset)\n",
    "            serialized_message = serialize_message(updated_marker_msg)\n",
    "            writer.write(topic, serialized_message, timestamp)\n",
    "        # else:\n",
    "        #     writer.write(topic, data, timestamp)\n",
    "\n",
    "    # Get the last used id\n",
    "    last_id = updated_marker_msg.id\n",
    "    print(f\"Last ID in {output_bag_name}: {last_id}\")\n",
    "    id_offset = last_id + 1\n",
    "\n",
    "print(f\"Processed all bags and saved in {output_folder}\")"
   ]
  },
  {
   "cell_type": "code",
   "execution_count": null,
   "metadata": {},
   "outputs": [],
   "source": []
  }
 ],
 "metadata": {
  "kernelspec": {
   "display_name": "dynus",
   "language": "python",
   "name": "python3"
  },
  "language_info": {
   "codemirror_mode": {
    "name": "ipython",
    "version": 3
   },
   "file_extension": ".py",
   "mimetype": "text/x-python",
   "name": "python",
   "nbconvert_exporter": "python",
   "pygments_lexer": "ipython3",
   "version": "3.10.15"
  }
 },
 "nbformat": 4,
 "nbformat_minor": 2
}
