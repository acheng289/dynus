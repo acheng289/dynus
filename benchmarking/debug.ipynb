{
 "cells": [
  {
   "cell_type": "code",
   "execution_count": 10,
   "metadata": {},
   "outputs": [],
   "source": [
    "import numpy as np\n",
    "import scipy as sp\n",
    "from scipy.spatial.transform import Rotation as R"
   ]
  },
  {
   "cell_type": "code",
   "execution_count": 25,
   "metadata": {},
   "outputs": [
    {
     "name": "stdout",
     "output_type": "stream",
     "text": [
      "[[-1. -0. -0. 20.]\n",
      " [-0. -0. -1.  2.]\n",
      " [-0. -1. -0.  8.]\n",
      " [ 0.  0.  0.  1.]]\n",
      "[ 1.1 -1.7  2.9  1. ]\n"
     ]
    }
   ],
   "source": [
    "T = np.array([[-1, 0, 0, 20],\n",
    "             [0, 0, -1, 8],\n",
    "             [0, -1, 0, 2],\n",
    "             [0, 0, 0, 1]])\n",
    "T_inv = np.linalg.inv(T)\n",
    "print(T_inv)\n",
    "world_homo = np.array([18.9, 5.1, 3.7, 1.0])\n",
    "camera_homo = T_inv @ world_homo\n",
    "print(camera_homo)"
   ]
  },
  {
   "cell_type": "code",
   "execution_count": 16,
   "metadata": {},
   "outputs": [
    {
     "name": "stdout",
     "output_type": "stream",
     "text": [
      "[[-1. -0.  0.]\n",
      " [ 0.  0. -1.]\n",
      " [ 0. -1.  0.]]\n",
      "1.0000000000000007\n"
     ]
    }
   ],
   "source": [
    "q = np.array([0.0, -0.707, 0.707, 0.0])\n",
    "\n",
    "# get rotation matrix from q\n",
    "rotation = R.from_quat(q)\n",
    "\n",
    "print(rotation.as_matrix())\n",
    "\n",
    "# get determinant of the matrix\n",
    "print(np.linalg.det(rotation.as_matrix()))"
   ]
  },
  {
   "cell_type": "code",
   "execution_count": null,
   "metadata": {},
   "outputs": [],
   "source": []
  }
 ],
 "metadata": {
  "kernelspec": {
   "display_name": "dynus",
   "language": "python",
   "name": "python3"
  },
  "language_info": {
   "codemirror_mode": {
    "name": "ipython",
    "version": 3
   },
   "file_extension": ".py",
   "mimetype": "text/x-python",
   "name": "python",
   "nbconvert_exporter": "python",
   "pygments_lexer": "ipython3",
   "version": "3.10.15"
  }
 },
 "nbformat": 4,
 "nbformat_minor": 2
}
