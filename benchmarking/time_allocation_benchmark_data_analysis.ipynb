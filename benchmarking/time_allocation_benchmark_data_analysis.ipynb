{
 "cells": [
  {
   "cell_type": "code",
   "execution_count": 2,
   "metadata": {},
   "outputs": [],
   "source": [
    "import pandas as pd\n",
    "import matplotlib.pyplot as plt\n",
    "import numpy as np\n",
    "from os import listdir\n",
    "from os.path import isfile, join"
   ]
  },
  {
   "cell_type": "code",
   "execution_count": 24,
   "metadata": {},
   "outputs": [],
   "source": [
    "# Define the file path\n",
    "folder_path = \"/media/kkondo/T7/dynus/tro_paper/time_allocation/csv/\"\n",
    "algorithms = [\"faster_4\", \"faster_5\", \"faster_6\", \"liu\"]"
   ]
  },
  {
   "cell_type": "code",
   "execution_count": 25,
   "metadata": {},
   "outputs": [],
   "source": [
    "def get_header_initialized_dict(file, algo_folder_path):\n",
    "\n",
    "    dict = {}\n",
    "\n",
    "    # Print the file path\n",
    "    file_path = algo_folder_path + \"/\" + file\n",
    "\n",
    "    # Load the CSV file\n",
    "    raw_data = pd.read_csv(file_path)\n",
    "\n",
    "    # Get headers\n",
    "    headers = raw_data.columns\n",
    "    \n",
    "    # Initialize the dictionary\n",
    "    for header in headers:\n",
    "        dict[header] = []\n",
    "\n",
    "    return dict"
   ]
  },
  {
   "cell_type": "code",
   "execution_count": 26,
   "metadata": {},
   "outputs": [],
   "source": [
    "def get_data(folder_path, algorithm):\n",
    "\n",
    "    \"\"\"\n",
    "    Get the data from the CSV files in the folder\n",
    "    \"\"\"\n",
    "    \n",
    "    # Get the files in the folder\n",
    "    algo_folder_path = folder_path + algorithm\n",
    "\n",
    "    # Get all the CSV files in the folder\n",
    "    files = [f for f in listdir(algo_folder_path) if isfile(join(algo_folder_path, f))]\n",
    "    \n",
    "    # Initialize the dictionary to store the data\n",
    "    float_data = get_header_initialized_dict(files[0], algo_folder_path)\n",
    "\n",
    "    # Convert the data to float\n",
    "    for file in files:\n",
    "\n",
    "        # Print the file path\n",
    "        file_path = algo_folder_path + \"/\" + file\n",
    "\n",
    "        # Load the CSV file\n",
    "        raw_data = pd.read_csv(file_path)\n",
    "\n",
    "        # Get headers\n",
    "        headers = raw_data.columns\n",
    "\n",
    "        raw_data_dict = {}\n",
    "        for header in headers:\n",
    "            raw_data_dict[header] = None\n",
    "\n",
    "        # Store the data in the dictionary\n",
    "        for header in headers:\n",
    "            raw_data_dict[header] = raw_data[header].values\n",
    "\n",
    "        for key in raw_data_dict:\n",
    "            if key == 'Planner':\n",
    "                continue\n",
    "            float_data[key].extend(raw_data_dict[key].astype(float).tolist())\n",
    "    \n",
    "            # If there's any nan data - FASTER approach sometimes have nan values in Dynamic A* - remove them\n",
    "            if (np.isnan(float_data[key]).any()):\n",
    "                float_data[key] = [x for x in float_data[key] if not np.isnan(x)] \n",
    "\n",
    "    return float_data\n"
   ]
  },
  {
   "cell_type": "code",
   "execution_count": 27,
   "metadata": {},
   "outputs": [],
   "source": [
    "def get_metrics(float_data):\n",
    "    \"\"\"\n",
    "    Get the average, min, max, and std of the data\n",
    "    \"\"\"\n",
    "\n",
    "    # Initialize the dictionary\n",
    "    avg_data = {}\n",
    "    min_data = {}\n",
    "    max_data = {}\n",
    "    std_data = {}\n",
    "\n",
    "    # Get average, min, max, and std of the data\n",
    "    for key in float_data:\n",
    "\n",
    "        if key == 'Planner':\n",
    "            continue\n",
    "\n",
    "        avg_data[key] = np.mean(np.array(float_data[key]))\n",
    "        min_data[key] = np.min(np.array(float_data[key]))\n",
    "        max_data[key] = np.max(np.array(float_data[key]))\n",
    "        std_data[key] = np.std(np.array(float_data[key]))\n",
    "\n",
    "    return avg_data, min_data, max_data, std_data"
   ]
  },
  {
   "cell_type": "code",
   "execution_count": null,
   "metadata": {},
   "outputs": [],
   "source": [
    "def filter_data(data):\n",
    "\n",
    "    # Cost (final node's g): if global planning time is 0.0 and the result is 0, then it's after reaching the goal\n",
    "    failure_indices = [i for i, x in enumerate(data[\"Global Planning Time [ms]\"]) if x == 0.0 and data['Result'][i] == 0]\n",
    "\n",
    "    print(failure_indices)\n",
    "\n",
    "    # Filter out the failures\n",
    "    \n",
    "    # Get the keys\n",
    "    keys = list(data.keys())\n",
    "    for key in keys:\n",
    "        data[key] = [x for i, x in enumerate(data[key]) if i not in failure_indices]\n",
    "\n",
    "    return data"
   ]
  },
  {
   "cell_type": "code",
   "execution_count": 30,
   "metadata": {},
   "outputs": [
    {
     "name": "stdout",
     "output_type": "stream",
     "text": [
      "*******************************************************************\n",
      "Algorithm:  faster_4\n",
      "*******************************************************************\n",
      "Result 0.21671954752379638 0.0 1.0 0.4120099334298596\n",
      "Cost (final node's g) 10.215733528762588 6.06439 18.7153 2.457401247770152\n",
      "Total replanning time [ms] 171.14618896399503 47.1542 666.214 47.458119730356316\n",
      "Global Planning Time [ms] 4.202238515657332 0.433 152.764 3.2423732838158053\n",
      "CVX Decomposition Time [ms] 27.675711684370256 13.713 93.998 11.251567808888272\n",
      "Gurobi Time [ms] 128.4062135466961 11.193 711.412 58.837235751992104\n",
      "Gurobi Try Counter 7.823010070354532 1.0 25.0 3.194826180250184\n",
      " Yaw Time [ms] 5.687413160435922 2.102 13.392 1.0520645171859793\n",
      "Static JPS Time [ms] 3.0618904676507106 0.09 12.066 2.702958316253807\n",
      "Check Path Time [ms] 1.0886763691543662 0.093 8.399 1.0496401468877894\n",
      "Dynamic A* Time [ms] 0.020670943708609273 0.0 141.155 1.6610046456812564\n",
      "Recover Path Time [ms] 2.759381898454746e-06 0.0 0.012 0.00016938110152985738\n",
      "*******************************************************************\n",
      "Algorithm:  faster_5\n",
      "*******************************************************************\n",
      "Result 0.18691588785046728 0.0 1.0 0.3898439927965273\n",
      "Cost (final node's g) 9.837596113150868 6.55332 16.9376 2.443236279763509\n",
      "Total replanning time [ms] 216.6014883010681 87.3182 511.669 57.75517299802076\n",
      "Global Planning Time [ms] 4.380142857142857 0.382 33.656 2.762424224012355\n",
      "CVX Decomposition Time [ms] 28.395685580774362 13.721 108.816 12.624896508582117\n",
      "Gurobi Time [ms] 171.75959579439254 50.96 971.029 73.06190525909943\n",
      "Gurobi Try Counter 7.705106809078772 3.0 25.0 2.845953834172653\n",
      " Yaw Time [ms] 5.733177599732933 2.128 21.304 1.1400835064919483\n",
      "Static JPS Time [ms] 3.3721417125688538 0.11 11.924 2.63032217733542\n",
      "Check Path Time [ms] 0.9642972792522115 0.091 10.291 0.9674592432441877\n",
      "Dynamic A* Time [ms] 0.013773994324820564 0.0 26.197 0.5458395495798629\n",
      "Recover Path Time [ms] 4.0060090135202805e-06 0.0 0.007 0.00015605716919566787\n",
      "*******************************************************************\n",
      "Algorithm:  faster_6\n",
      "*******************************************************************\n",
      "Result 0.18603879953573205 0.0 1.0 0.38913797630536623\n",
      "Cost (final node's g) 9.685795143425633 6.45869 19.1581 2.688098320538293\n",
      "Total replanning time [ms] 216.29416524622778 93.8284 496.519 54.5095429253108\n",
      "Global Planning Time [ms] 4.254065329132814 0.409 78.805 4.556076515901212\n",
      "CVX Decomposition Time [ms] 29.491103631238598 13.708 120.782 14.746178701351594\n",
      "Gurobi Time [ms] 173.51398822749132 31.8 676.163 69.25476323509565\n",
      "Gurobi Try Counter 7.499088045100315 1.0 25.0 3.1528713488457494\n",
      " Yaw Time [ms] 5.5295455148399935 2.187 25.592 1.3845227855115851\n",
      "Static JPS Time [ms] 3.00771944951086 0.093 23.15 2.4542341955358804\n",
      "Check Path Time [ms] 1.0327564251367933 0.092 11.047 1.236502891744057\n",
      "Dynamic A* Time [ms] 0.18355579505886255 0.0 69.534 3.5365818227565993\n",
      "Recover Path Time [ms] 1.8736527938981928e-05 0.0 0.01 0.00034620973310617027\n",
      "*******************************************************************\n",
      "Algorithm:  liu\n",
      "*******************************************************************\n",
      "Result 0.1864570737605804 0.0 1.0 0.38947507417705424\n",
      "Cost (final node's g) 10.456793304715841 4.67687 15.9011 2.7106165276625425\n",
      "Total replanning time [ms] 123.01138510278113 56.2329 344.768 41.28106586277198\n",
      "Global Planning Time [ms] 4.206629020556228 0.452 19.714 2.3708571626293087\n",
      "CVX Decomposition Time [ms] 30.694712817412338 13.717 122.715 12.831602924742166\n",
      "Gurobi Time [ms] 85.81416130592504 7.009 485.3 56.61191447973901\n",
      "Gurobi Try Counter 10.01559854897219 1.0 25.0 5.838878449343943\n",
      " Yaw Time [ms] 6.10192261185006 2.264 15.909 1.3797464992648343\n",
      "Static JPS Time [ms] 2.9767 0.12 19.513 2.4313962918489715\n",
      "Check Path Time [ms] 1.1980044740024183 0.087 14.819 1.1307860630085482\n",
      "Dynamic A* Time [ms] 0.0 0.0 0.0 0.0\n",
      "Recover Path Time [ms] 0.0 0.0 0.0 0.0\n"
     ]
    }
   ],
   "source": [
    "# Get the data\n",
    "for algorithm in algorithms:\n",
    "\n",
    "    float_data = get_data(folder_path, algorithm)\n",
    "    float_data = filter_data(float_data)\n",
    "    avg_data, min_data, max_data, std_data = get_metrics(float_data)\n",
    "\n",
    "    for key in float_data:\n",
    "        if key == 'Planner':\n",
    "            print(\"*******************************************************************\")\n",
    "            print(\"Algorithm: \", algorithm)\n",
    "            print(\"*******************************************************************\")\n",
    "            continue\n",
    "\n",
    "        print(key, avg_data[key], min_data[key], max_data[key], std_data[key])"
   ]
  },
  {
   "cell_type": "code",
   "execution_count": 31,
   "metadata": {},
   "outputs": [],
   "source": [
    "# font\n",
    "import matplotlib.font_manager as font_manager\n",
    "font = font_manager.FontProperties()\n",
    "font.set_family('serif')\n",
    "plt.rcParams.update({\"text.usetex\": True})\n",
    "plt.rcParams[\"font.family\"] = \"Times New Roman\"\n",
    "font.set_size(40)"
   ]
  },
  {
   "cell_type": "code",
   "execution_count": 32,
   "metadata": {},
   "outputs": [
    {
     "name": "stdout",
     "output_type": "stream",
     "text": [
      "Requirement already satisfied: numpy in /home/kkondo/anaconda3/envs/dynus/lib/python3.10/site-packages (2.1.1)\n",
      "Requirement already satisfied: rclpy in /opt/ros/humble/local/lib/python3.10/dist-packages (3.3.14)\n",
      "Requirement already satisfied: rosbag2_py in /opt/ros/humble/local/lib/python3.10/dist-packages (0.15.12)\n",
      "Requirement already satisfied: rosidl-runtime-py in /opt/ros/humble/lib/python3.10/site-packages (0.9.3)\n"
     ]
    }
   ],
   "source": [
    "!pip install numpy rclpy rosbag2_py rosidl-runtime-py\n",
    "\n",
    "import numpy as np\n",
    "import rosbag2_py\n",
    "import rclpy\n",
    "from rclpy.serialization import deserialize_message\n",
    "from rosidl_runtime_py.utilities import get_message\n",
    "from dynus_interfaces.msg import Goal"
   ]
  },
  {
   "cell_type": "code",
   "execution_count": 33,
   "metadata": {},
   "outputs": [],
   "source": [
    "def read_ros2_bag(bag_path, topic_name, message_type):\n",
    "    \"\"\"\n",
    "    Reads a ROS 2 bag file and extracts messages from a specified topic.\n",
    "\n",
    "    Args:\n",
    "        bag_path (str): Path to the ROS 2 bag file.\n",
    "        topic_name (str): The name of the topic to extract data from.\n",
    "        message_type (str): The message type as a string (e.g., \"geometry_msgs/msg/Twist\").\n",
    "\n",
    "    Returns:\n",
    "        list: A list of messages from the specified topic.\n",
    "    \"\"\"\n",
    "    storage_options = rosbag2_py.StorageOptions(uri=bag_path, storage_id=\"sqlite3\")\n",
    "    converter_options = rosbag2_py.ConverterOptions(\n",
    "        input_serialization_format=\"cdr\", output_serialization_format=\"cdr\"\n",
    "    )\n",
    "\n",
    "    reader = rosbag2_py.SequentialReader()\n",
    "    reader.open(storage_options, converter_options)\n",
    "\n",
    "    all_topics = reader.get_all_topics_and_types()\n",
    "    topic_names = [topic.name for topic in all_topics]\n",
    "\n",
    "    topic_found = any(t == topic_name for t in topic_names)\n",
    "    if not topic_found:\n",
    "        print(f\"Topic '{topic_name}' not found in the bag.\")\n",
    "        return []\n",
    "\n",
    "    # Resolve the message type dynamically\n",
    "    msg_type = get_message(message_type)\n",
    "\n",
    "    data = []\n",
    "    while reader.has_next():\n",
    "        topic, serialized_msg, _ = reader.read_next()\n",
    "        if topic == topic_name:\n",
    "            msg = deserialize_message(serialized_msg, msg_type)\n",
    "            data.append(msg)\n",
    "\n",
    "    return data\n"
   ]
  },
  {
   "cell_type": "code",
   "execution_count": 34,
   "metadata": {},
   "outputs": [],
   "source": [
    "def process_goal_data(messages):\n",
    "    \"\"\"\n",
    "    Processes goal data to extract desired values and computes averages.\n",
    "\n",
    "    Args:\n",
    "        messages (list): List of ROS 2 messages.\n",
    "\n",
    "    Returns:\n",
    "        np.ndarray: Array of extracted values.\n",
    "    \"\"\"\n",
    "    \n",
    "    # Get the very first msg's time stamp\n",
    "    start_time = messages[0].header.stamp.sec + messages[0].header.stamp.nanosec * 1e-9\n",
    "\n",
    "    # Get the very last msg's time stamp\n",
    "    end_time = messages[-1].header.stamp.sec + messages[-1].header.stamp.nanosec * 1e-9\n",
    "\n",
    "    # Get the total time\n",
    "    total_time = end_time - start_time\n",
    "\n",
    "    # Extract goal positions\n",
    "    positions = [[msg.p.x, msg.p.y, msg.p.z] for msg in messages]\n",
    "\n",
    "    # Extract velocities\n",
    "    velocities = [np.linalg.norm(np.array([msg.v.x, msg.v.y, msg.v.z])) for msg in messages]\n",
    "\n",
    "    # Extract accelerations\n",
    "    accelerations = [np.linalg.norm(np.array([msg.a.x, msg.a.y, msg.a.z])) for msg in messages]\n",
    "\n",
    "    # Extract jerk\n",
    "    jerks = [np.linalg.norm(np.array([msg.j.x, msg.j.y, msg.j.z])) for msg in messages]\n",
    "\n",
    "    return np.array(positions), np.array(velocities), np.array(accelerations), np.array(jerks), total_time"
   ]
  },
  {
   "cell_type": "code",
   "execution_count": 35,
   "metadata": {},
   "outputs": [],
   "source": [
    "def plot_velocity_histogram(velocities, bins=30, title=\"Velocity Profile\", xlabel=\"Velocity (m/s)\", ylabel=\"Frequency\", output_file=None):\n",
    "    \"\"\"\n",
    "    Plots a histogram of the velocity profile.\n",
    "\n",
    "    Args:\n",
    "        velocities (np.ndarray): Array of velocity values.\n",
    "        bins (int): Number of bins for the histogram. Default is 30.\n",
    "        title (str): Title of the plot. Default is \"Velocity Profile\".\n",
    "        xlabel (str): Label for the x-axis. Default is \"Velocity (m/s)\".\n",
    "        ylabel (str): Label for the y-axis. Default is \"Frequency\".\n",
    "        output_file (str): If provided, saves the plot to this file. Default is None.\n",
    "    \"\"\"\n",
    "    # Create the histogram\n",
    "    plt.figure(figsize=(10, 6))\n",
    "    weights = velocities / len(velocities)\n",
    "    plt.hist(velocities, weights=weights, bins=bins, color=\"skyblue\", edgecolor=\"black\", alpha=0.7)\n",
    "    \n",
    "    # Add titles and labels\n",
    "    plt.title(title, fontproperties=font, weight='bold')\n",
    "    plt.xlabel(xlabel, fontproperties=font)\n",
    "    plt.ylabel(ylabel, fontproperties=font)\n",
    "    plt.xticks(fontproperties=font)\n",
    "    plt.yticks(fontproperties=font)\n",
    "    \n",
    "    # Grid and styling\n",
    "    plt.grid(color='gray', linewidth=0.5, alpha=0.7)\n",
    "    plt.tight_layout()\n",
    "    \n",
    "    # Show or save the plot\n",
    "    if output_file:\n",
    "        plt.savefig(output_file, bbox_inches='tight', dpi=300)\n",
    "        print(f\"Plot saved as {output_file}\")\n",
    "    else:\n",
    "        plt.show()"
   ]
  },
  {
   "cell_type": "code",
   "execution_count": 36,
   "metadata": {},
   "outputs": [
    {
     "name": "stdout",
     "output_type": "stream",
     "text": [
      "processing bag: /media/kkondo/T7/dynus/tro_paper/time_allocation/bags/faster_4/num_0/num_0\n"
     ]
    },
    {
     "name": "stderr",
     "output_type": "stream",
     "text": [
      "[INFO] [1735753932.558110758] [rosbag2_storage]: Opened database '/media/kkondo/T7/dynus/tro_paper/time_allocation/bags/faster_4/num_0/num_0/num_0_0.db3' for READ_ONLY.\n"
     ]
    },
    {
     "name": "stdout",
     "output_type": "stream",
     "text": [
      "processing bag: /media/kkondo/T7/dynus/tro_paper/time_allocation/bags/faster_4/num_1/num_1\n"
     ]
    },
    {
     "name": "stderr",
     "output_type": "stream",
     "text": [
      "[INFO] [1735753933.321200632] [rosbag2_storage]: Opened database '/media/kkondo/T7/dynus/tro_paper/time_allocation/bags/faster_4/num_1/num_1/num_1_0.db3' for READ_ONLY.\n"
     ]
    },
    {
     "name": "stdout",
     "output_type": "stream",
     "text": [
      "processing bag: /media/kkondo/T7/dynus/tro_paper/time_allocation/bags/faster_4/num_2/num_2\n"
     ]
    },
    {
     "name": "stderr",
     "output_type": "stream",
     "text": [
      "[INFO] [1735753933.990636885] [rosbag2_storage]: Opened database '/media/kkondo/T7/dynus/tro_paper/time_allocation/bags/faster_4/num_2/num_2/num_2_0.db3' for READ_ONLY.\n"
     ]
    },
    {
     "name": "stdout",
     "output_type": "stream",
     "text": [
      "processing bag: /media/kkondo/T7/dynus/tro_paper/time_allocation/bags/faster_4/num_3/num_3\n"
     ]
    },
    {
     "name": "stderr",
     "output_type": "stream",
     "text": [
      "[INFO] [1735753934.668454769] [rosbag2_storage]: Opened database '/media/kkondo/T7/dynus/tro_paper/time_allocation/bags/faster_4/num_3/num_3/num_3_0.db3' for READ_ONLY.\n"
     ]
    },
    {
     "name": "stdout",
     "output_type": "stream",
     "text": [
      "processing bag: /media/kkondo/T7/dynus/tro_paper/time_allocation/bags/faster_4/num_4/num_4\n"
     ]
    },
    {
     "name": "stderr",
     "output_type": "stream",
     "text": [
      "[INFO] [1735753935.388943097] [rosbag2_storage]: Opened database '/media/kkondo/T7/dynus/tro_paper/time_allocation/bags/faster_4/num_4/num_4/num_4_0.db3' for READ_ONLY.\n"
     ]
    },
    {
     "name": "stdout",
     "output_type": "stream",
     "text": [
      "processing bag: /media/kkondo/T7/dynus/tro_paper/time_allocation/bags/faster_4/num_5/num_5\n"
     ]
    },
    {
     "name": "stderr",
     "output_type": "stream",
     "text": [
      "[INFO] [1735753936.069323125] [rosbag2_storage]: Opened database '/media/kkondo/T7/dynus/tro_paper/time_allocation/bags/faster_4/num_5/num_5/num_5_0.db3' for READ_ONLY.\n"
     ]
    },
    {
     "name": "stdout",
     "output_type": "stream",
     "text": [
      "processing bag: /media/kkondo/T7/dynus/tro_paper/time_allocation/bags/faster_4/num_6/num_6\n"
     ]
    },
    {
     "name": "stderr",
     "output_type": "stream",
     "text": [
      "[INFO] [1735753936.785117427] [rosbag2_storage]: Opened database '/media/kkondo/T7/dynus/tro_paper/time_allocation/bags/faster_4/num_6/num_6/num_6_0.db3' for READ_ONLY.\n"
     ]
    },
    {
     "name": "stdout",
     "output_type": "stream",
     "text": [
      "processing bag: /media/kkondo/T7/dynus/tro_paper/time_allocation/bags/faster_4/num_7/num_7\n"
     ]
    },
    {
     "name": "stderr",
     "output_type": "stream",
     "text": [
      "[INFO] [1735753937.459048425] [rosbag2_storage]: Opened database '/media/kkondo/T7/dynus/tro_paper/time_allocation/bags/faster_4/num_7/num_7/num_7_0.db3' for READ_ONLY.\n"
     ]
    },
    {
     "name": "stdout",
     "output_type": "stream",
     "text": [
      "processing bag: /media/kkondo/T7/dynus/tro_paper/time_allocation/bags/faster_4/num_8/num_8\n"
     ]
    },
    {
     "name": "stderr",
     "output_type": "stream",
     "text": [
      "[INFO] [1735753938.124108710] [rosbag2_storage]: Opened database '/media/kkondo/T7/dynus/tro_paper/time_allocation/bags/faster_4/num_8/num_8/num_8_0.db3' for READ_ONLY.\n"
     ]
    },
    {
     "name": "stdout",
     "output_type": "stream",
     "text": [
      "processing bag: /media/kkondo/T7/dynus/tro_paper/time_allocation/bags/faster_4/num_9/num_9\n"
     ]
    },
    {
     "name": "stderr",
     "output_type": "stream",
     "text": [
      "[INFO] [1735753938.760137350] [rosbag2_storage]: Opened database '/media/kkondo/T7/dynus/tro_paper/time_allocation/bags/faster_4/num_9/num_9/num_9_0.db3' for READ_ONLY.\n"
     ]
    }
   ],
   "source": [
    "# Get FASTER_4's data \n",
    "base_path = \"/media/kkondo/T7/dynus/tro_paper/time_allocation/bags/faster_4\"\n",
    "num_bags = 10\n",
    "topic_name = \"/NX01/goal\"\n",
    "message_type = \"dynus_interfaces/msg/Goal\"  # Update with your message type\n",
    "\n",
    "# Initialize arrays to store data\n",
    "faster_4_pos_array = np.array([])\n",
    "faster_4_vel_array = np.array([])\n",
    "faster_4_accel_array = np.array([])\n",
    "faster_4_jerk_array = np.array([])\n",
    "faster_4_travel_time_array = np.array([])\n",
    "\n",
    "for i in range(num_bags):\n",
    "    bag_path = f\"{base_path}/num_{i}/num_{i}\"\n",
    "    print(f\"processing bag: {bag_path}\")\n",
    "\n",
    "    # Read the bag and extract data\n",
    "    messages = read_ros2_bag(bag_path, topic_name, message_type)\n",
    "\n",
    "    if not messages:\n",
    "        print(f\"No messages found or topic does not exist in {bag_path}.\")\n",
    "    else:\n",
    "        \n",
    "        # Process data\n",
    "        pos, vel, accel, jerk, travel_time = process_goal_data(messages)\n",
    "\n",
    "        # Append to the arrays\n",
    "        faster_4_pos_array = np.append(faster_4_pos_array, pos)\n",
    "        faster_4_vel_array = np.append(faster_4_vel_array, vel)\n",
    "        faster_4_accel_array = np.append(faster_4_accel_array, accel)\n",
    "        faster_4_jerk_array = np.append(faster_4_jerk_array, jerk)\n",
    "        faster_4_travel_time_array = np.append(faster_4_travel_time_array, travel_time)"
   ]
  },
  {
   "cell_type": "code",
   "execution_count": 37,
   "metadata": {},
   "outputs": [
    {
     "name": "stdout",
     "output_type": "stream",
     "text": [
      "processing bag: /media/kkondo/T7/dynus/tro_paper/time_allocation/bags/faster_5/num_0/num_0\n"
     ]
    },
    {
     "name": "stderr",
     "output_type": "stream",
     "text": [
      "[INFO] [1735753939.407588820] [rosbag2_storage]: Opened database '/media/kkondo/T7/dynus/tro_paper/time_allocation/bags/faster_5/num_0/num_0/num_0_0.db3' for READ_ONLY.\n"
     ]
    },
    {
     "name": "stdout",
     "output_type": "stream",
     "text": [
      "processing bag: /media/kkondo/T7/dynus/tro_paper/time_allocation/bags/faster_5/num_1/num_1\n"
     ]
    },
    {
     "name": "stderr",
     "output_type": "stream",
     "text": [
      "[INFO] [1735753940.159242695] [rosbag2_storage]: Opened database '/media/kkondo/T7/dynus/tro_paper/time_allocation/bags/faster_5/num_1/num_1/num_1_0.db3' for READ_ONLY.\n"
     ]
    },
    {
     "name": "stdout",
     "output_type": "stream",
     "text": [
      "processing bag: /media/kkondo/T7/dynus/tro_paper/time_allocation/bags/faster_5/num_2/num_2\n"
     ]
    },
    {
     "name": "stderr",
     "output_type": "stream",
     "text": [
      "[INFO] [1735753940.832128300] [rosbag2_storage]: Opened database '/media/kkondo/T7/dynus/tro_paper/time_allocation/bags/faster_5/num_2/num_2/num_2_0.db3' for READ_ONLY.\n"
     ]
    },
    {
     "name": "stdout",
     "output_type": "stream",
     "text": [
      "processing bag: /media/kkondo/T7/dynus/tro_paper/time_allocation/bags/faster_5/num_3/num_3\n"
     ]
    },
    {
     "name": "stderr",
     "output_type": "stream",
     "text": [
      "[INFO] [1735753941.504286792] [rosbag2_storage]: Opened database '/media/kkondo/T7/dynus/tro_paper/time_allocation/bags/faster_5/num_3/num_3/num_3_0.db3' for READ_ONLY.\n"
     ]
    },
    {
     "name": "stdout",
     "output_type": "stream",
     "text": [
      "processing bag: /media/kkondo/T7/dynus/tro_paper/time_allocation/bags/faster_5/num_4/num_4\n"
     ]
    },
    {
     "name": "stderr",
     "output_type": "stream",
     "text": [
      "[INFO] [1735753942.214660563] [rosbag2_storage]: Opened database '/media/kkondo/T7/dynus/tro_paper/time_allocation/bags/faster_5/num_4/num_4/num_4_0.db3' for READ_ONLY.\n"
     ]
    },
    {
     "name": "stdout",
     "output_type": "stream",
     "text": [
      "processing bag: /media/kkondo/T7/dynus/tro_paper/time_allocation/bags/faster_5/num_5/num_5\n"
     ]
    },
    {
     "name": "stderr",
     "output_type": "stream",
     "text": [
      "[INFO] [1735753942.882854699] [rosbag2_storage]: Opened database '/media/kkondo/T7/dynus/tro_paper/time_allocation/bags/faster_5/num_5/num_5/num_5_0.db3' for READ_ONLY.\n"
     ]
    },
    {
     "name": "stdout",
     "output_type": "stream",
     "text": [
      "processing bag: /media/kkondo/T7/dynus/tro_paper/time_allocation/bags/faster_5/num_6/num_6\n"
     ]
    },
    {
     "name": "stderr",
     "output_type": "stream",
     "text": [
      "[INFO] [1735753943.546935144] [rosbag2_storage]: Opened database '/media/kkondo/T7/dynus/tro_paper/time_allocation/bags/faster_5/num_6/num_6/num_6_0.db3' for READ_ONLY.\n"
     ]
    },
    {
     "name": "stdout",
     "output_type": "stream",
     "text": [
      "processing bag: /media/kkondo/T7/dynus/tro_paper/time_allocation/bags/faster_5/num_7/num_7\n"
     ]
    },
    {
     "name": "stderr",
     "output_type": "stream",
     "text": [
      "[INFO] [1735753944.185836168] [rosbag2_storage]: Opened database '/media/kkondo/T7/dynus/tro_paper/time_allocation/bags/faster_5/num_7/num_7/num_7_0.db3' for READ_ONLY.\n"
     ]
    },
    {
     "name": "stdout",
     "output_type": "stream",
     "text": [
      "processing bag: /media/kkondo/T7/dynus/tro_paper/time_allocation/bags/faster_5/num_8/num_8\n"
     ]
    },
    {
     "name": "stderr",
     "output_type": "stream",
     "text": [
      "[INFO] [1735753944.871999260] [rosbag2_storage]: Opened database '/media/kkondo/T7/dynus/tro_paper/time_allocation/bags/faster_5/num_8/num_8/num_8_0.db3' for READ_ONLY.\n"
     ]
    },
    {
     "name": "stdout",
     "output_type": "stream",
     "text": [
      "processing bag: /media/kkondo/T7/dynus/tro_paper/time_allocation/bags/faster_5/num_9/num_9\n"
     ]
    },
    {
     "name": "stderr",
     "output_type": "stream",
     "text": [
      "[INFO] [1735753945.528810310] [rosbag2_storage]: Opened database '/media/kkondo/T7/dynus/tro_paper/time_allocation/bags/faster_5/num_9/num_9/num_9_0.db3' for READ_ONLY.\n"
     ]
    }
   ],
   "source": [
    "# Get FASTER_5's data \n",
    "base_path = \"/media/kkondo/T7/dynus/tro_paper/time_allocation/bags/faster_5\"\n",
    "num_bags = 10\n",
    "topic_name = \"/NX01/goal\"\n",
    "message_type = \"dynus_interfaces/msg/Goal\"  # Update with your message type\n",
    "\n",
    "# Initialize arrays to store data\n",
    "faster_5_pos_array = np.array([])\n",
    "faster_5_vel_array = np.array([])\n",
    "faster_5_accel_array = np.array([])\n",
    "faster_5_jerk_array = np.array([])\n",
    "faster_5_travel_time_array = np.array([])\n",
    "\n",
    "for i in range(num_bags):\n",
    "    bag_path = f\"{base_path}/num_{i}/num_{i}\"\n",
    "    print(f\"processing bag: {bag_path}\")\n",
    "\n",
    "    # Read the bag and extract data\n",
    "    messages = read_ros2_bag(bag_path, topic_name, message_type)\n",
    "\n",
    "    if not messages:\n",
    "        print(f\"No messages found or topic does not exist in {bag_path}.\")\n",
    "    else:\n",
    "        \n",
    "        # Process data\n",
    "        pos, vel, accel, jerk, travel_time = process_goal_data(messages)\n",
    "\n",
    "        # Append to the arrays\n",
    "        faster_5_pos_array = np.append(faster_5_pos_array, pos)\n",
    "        faster_5_vel_array = np.append(faster_5_vel_array, vel)\n",
    "        faster_5_accel_array = np.append(faster_5_accel_array, accel)\n",
    "        faster_5_jerk_array = np.append(faster_5_jerk_array, jerk)\n",
    "        faster_5_travel_time_array = np.append(faster_5_travel_time_array, travel_time)"
   ]
  },
  {
   "cell_type": "code",
   "execution_count": 38,
   "metadata": {},
   "outputs": [
    {
     "name": "stdout",
     "output_type": "stream",
     "text": [
      "processing bag: /media/kkondo/T7/dynus/tro_paper/time_allocation/bags/faster_6/num_0/num_0\n"
     ]
    },
    {
     "name": "stderr",
     "output_type": "stream",
     "text": [
      "[INFO] [1735753946.172479264] [rosbag2_storage]: Opened database '/media/kkondo/T7/dynus/tro_paper/time_allocation/bags/faster_6/num_0/num_0/num_0_0.db3' for READ_ONLY.\n"
     ]
    },
    {
     "name": "stdout",
     "output_type": "stream",
     "text": [
      "processing bag: /media/kkondo/T7/dynus/tro_paper/time_allocation/bags/faster_6/num_1/num_1\n"
     ]
    },
    {
     "name": "stderr",
     "output_type": "stream",
     "text": [
      "[INFO] [1735753946.880077654] [rosbag2_storage]: Opened database '/media/kkondo/T7/dynus/tro_paper/time_allocation/bags/faster_6/num_1/num_1/num_1_0.db3' for READ_ONLY.\n"
     ]
    },
    {
     "name": "stdout",
     "output_type": "stream",
     "text": [
      "processing bag: /media/kkondo/T7/dynus/tro_paper/time_allocation/bags/faster_6/num_2/num_2\n"
     ]
    },
    {
     "name": "stderr",
     "output_type": "stream",
     "text": [
      "[INFO] [1735753947.544677774] [rosbag2_storage]: Opened database '/media/kkondo/T7/dynus/tro_paper/time_allocation/bags/faster_6/num_2/num_2/num_2_0.db3' for READ_ONLY.\n"
     ]
    },
    {
     "name": "stdout",
     "output_type": "stream",
     "text": [
      "processing bag: /media/kkondo/T7/dynus/tro_paper/time_allocation/bags/faster_6/num_3/num_3\n"
     ]
    },
    {
     "name": "stderr",
     "output_type": "stream",
     "text": [
      "[INFO] [1735753948.204016230] [rosbag2_storage]: Opened database '/media/kkondo/T7/dynus/tro_paper/time_allocation/bags/faster_6/num_3/num_3/num_3_0.db3' for READ_ONLY.\n"
     ]
    },
    {
     "name": "stdout",
     "output_type": "stream",
     "text": [
      "processing bag: /media/kkondo/T7/dynus/tro_paper/time_allocation/bags/faster_6/num_4/num_4\n"
     ]
    },
    {
     "name": "stderr",
     "output_type": "stream",
     "text": [
      "[INFO] [1735753948.903404000] [rosbag2_storage]: Opened database '/media/kkondo/T7/dynus/tro_paper/time_allocation/bags/faster_6/num_4/num_4/num_4_0.db3' for READ_ONLY.\n"
     ]
    },
    {
     "name": "stdout",
     "output_type": "stream",
     "text": [
      "processing bag: /media/kkondo/T7/dynus/tro_paper/time_allocation/bags/faster_6/num_5/num_5\n"
     ]
    },
    {
     "name": "stderr",
     "output_type": "stream",
     "text": [
      "[INFO] [1735753949.582518107] [rosbag2_storage]: Opened database '/media/kkondo/T7/dynus/tro_paper/time_allocation/bags/faster_6/num_5/num_5/num_5_0.db3' for READ_ONLY.\n"
     ]
    },
    {
     "name": "stdout",
     "output_type": "stream",
     "text": [
      "processing bag: /media/kkondo/T7/dynus/tro_paper/time_allocation/bags/faster_6/num_6/num_6\n"
     ]
    },
    {
     "name": "stderr",
     "output_type": "stream",
     "text": [
      "[INFO] [1735753950.225042234] [rosbag2_storage]: Opened database '/media/kkondo/T7/dynus/tro_paper/time_allocation/bags/faster_6/num_6/num_6/num_6_0.db3' for READ_ONLY.\n"
     ]
    },
    {
     "name": "stdout",
     "output_type": "stream",
     "text": [
      "processing bag: /media/kkondo/T7/dynus/tro_paper/time_allocation/bags/faster_6/num_7/num_7\n"
     ]
    },
    {
     "name": "stderr",
     "output_type": "stream",
     "text": [
      "[INFO] [1735753950.913051096] [rosbag2_storage]: Opened database '/media/kkondo/T7/dynus/tro_paper/time_allocation/bags/faster_6/num_7/num_7/num_7_0.db3' for READ_ONLY.\n"
     ]
    },
    {
     "name": "stdout",
     "output_type": "stream",
     "text": [
      "processing bag: /media/kkondo/T7/dynus/tro_paper/time_allocation/bags/faster_6/num_8/num_8\n"
     ]
    },
    {
     "name": "stderr",
     "output_type": "stream",
     "text": [
      "[INFO] [1735753951.633473537] [rosbag2_storage]: Opened database '/media/kkondo/T7/dynus/tro_paper/time_allocation/bags/faster_6/num_8/num_8/num_8_0.db3' for READ_ONLY.\n"
     ]
    },
    {
     "name": "stdout",
     "output_type": "stream",
     "text": [
      "processing bag: /media/kkondo/T7/dynus/tro_paper/time_allocation/bags/faster_6/num_9/num_9\n"
     ]
    },
    {
     "name": "stderr",
     "output_type": "stream",
     "text": [
      "[INFO] [1735753952.288845912] [rosbag2_storage]: Opened database '/media/kkondo/T7/dynus/tro_paper/time_allocation/bags/faster_6/num_9/num_9/num_9_0.db3' for READ_ONLY.\n"
     ]
    }
   ],
   "source": [
    "# Get FASTER_6's data \n",
    "base_path = \"/media/kkondo/T7/dynus/tro_paper/time_allocation/bags/faster_6\"\n",
    "num_bags = 10\n",
    "topic_name = \"/NX01/goal\"\n",
    "message_type = \"dynus_interfaces/msg/Goal\"  # Update with your message type\n",
    "\n",
    "# Initialize arrays to store data\n",
    "faster_6_pos_array = np.array([])\n",
    "faster_6_vel_array = np.array([])\n",
    "faster_6_accel_array = np.array([])\n",
    "faster_6_jerk_array = np.array([])\n",
    "faster_6_travel_time_array = np.array([])\n",
    "\n",
    "for i in range(num_bags):\n",
    "    bag_path = f\"{base_path}/num_{i}/num_{i}\"\n",
    "    print(f\"processing bag: {bag_path}\")\n",
    "\n",
    "    # Read the bag and extract data\n",
    "    messages = read_ros2_bag(bag_path, topic_name, message_type)\n",
    "\n",
    "    if not messages:\n",
    "        print(f\"No messages found or topic does not exist in {bag_path}.\")\n",
    "    else:\n",
    "        \n",
    "        # Process data\n",
    "        pos, vel, accel, jerk, travel_time = process_goal_data(messages)\n",
    "\n",
    "        # Append to the arrays\n",
    "        faster_6_pos_array = np.append(faster_6_pos_array, pos)\n",
    "        faster_6_vel_array = np.append(faster_6_vel_array, vel)\n",
    "        faster_6_accel_array = np.append(faster_6_accel_array, accel)\n",
    "        faster_6_jerk_array = np.append(faster_6_jerk_array, jerk)\n",
    "        faster_6_travel_time_array = np.append(faster_6_travel_time_array, travel_time)"
   ]
  },
  {
   "cell_type": "code",
   "execution_count": 39,
   "metadata": {},
   "outputs": [],
   "source": [
    "import numpy as np\n",
    "from scipy.spatial.distance import euclidean\n",
    "import rosbag2_py\n",
    "from rclpy.serialization import deserialize_message\n",
    "from rosidl_runtime_py.utilities import get_message"
   ]
  },
  {
   "cell_type": "code",
   "execution_count": 40,
   "metadata": {},
   "outputs": [],
   "source": [
    "def compute_path_length(positions):\n",
    "    \"\"\"\n",
    "    Computes the total path length by summing distances between consecutive positions.\n",
    "\n",
    "    Args:\n",
    "        positions (np.ndarray): An array of position vectors [x, y, z].\n",
    "\n",
    "    Returns:\n",
    "        float: The total path length.\n",
    "    \"\"\"\n",
    "    path_length = 0.0\n",
    "    for i in range(1, len(positions)):\n",
    "        path_length += euclidean(positions[i - 1], positions[i])\n",
    "    return path_length"
   ]
  },
  {
   "cell_type": "code",
   "execution_count": 41,
   "metadata": {},
   "outputs": [
    {
     "name": "stderr",
     "output_type": "stream",
     "text": [
      "[INFO] [1735753952.973598552] [rosbag2_storage]: Opened database '/media/kkondo/T7/dynus/tro_paper/time_allocation/bags/liu/num_0/num_0/num_0_0.db3' for READ_ONLY.\n",
      "[INFO] [1735753953.981413018] [rosbag2_storage]: Opened database '/media/kkondo/T7/dynus/tro_paper/time_allocation/bags/liu/num_1/num_1/num_1_0.db3' for READ_ONLY.\n",
      "[INFO] [1735753954.809867905] [rosbag2_storage]: Opened database '/media/kkondo/T7/dynus/tro_paper/time_allocation/bags/liu/num_2/num_2/num_2_0.db3' for READ_ONLY.\n",
      "[INFO] [1735753955.866252152] [rosbag2_storage]: Opened database '/media/kkondo/T7/dynus/tro_paper/time_allocation/bags/liu/num_3/num_3/num_3_0.db3' for READ_ONLY.\n",
      "[INFO] [1735753956.851529387] [rosbag2_storage]: Opened database '/media/kkondo/T7/dynus/tro_paper/time_allocation/bags/liu/num_4/num_4/num_4_0.db3' for READ_ONLY.\n",
      "[INFO] [1735753957.701728390] [rosbag2_storage]: Opened database '/media/kkondo/T7/dynus/tro_paper/time_allocation/bags/liu/num_5/num_5/num_5_0.db3' for READ_ONLY.\n",
      "[INFO] [1735753958.536677412] [rosbag2_storage]: Opened database '/media/kkondo/T7/dynus/tro_paper/time_allocation/bags/liu/num_6/num_6/num_6_0.db3' for READ_ONLY.\n",
      "[INFO] [1735753959.428592086] [rosbag2_storage]: Opened database '/media/kkondo/T7/dynus/tro_paper/time_allocation/bags/liu/num_7/num_7/num_7_0.db3' for READ_ONLY.\n",
      "[INFO] [1735753960.266407248] [rosbag2_storage]: Opened database '/media/kkondo/T7/dynus/tro_paper/time_allocation/bags/liu/num_8/num_8/num_8_0.db3' for READ_ONLY.\n",
      "[INFO] [1735753960.969152600] [rosbag2_storage]: Opened database '/media/kkondo/T7/dynus/tro_paper/time_allocation/bags/liu/num_9/num_9/num_9_0.db3' for READ_ONLY.\n"
     ]
    },
    {
     "name": "stdout",
     "output_type": "stream",
     "text": [
      "*******************************************************************\n",
      "Algorithm: liu\n",
      "Average Travel Time: 47.69 seconds\n",
      "Average Path Length: 101.61 meters\n",
      "*******************************************************************\n"
     ]
    },
    {
     "name": "stderr",
     "output_type": "stream",
     "text": [
      "[INFO] [1735753961.759722689] [rosbag2_storage]: Opened database '/media/kkondo/T7/dynus/tro_paper/time_allocation/bags/faster_4/num_0/num_0/num_0_0.db3' for READ_ONLY.\n",
      "[INFO] [1735753962.512131706] [rosbag2_storage]: Opened database '/media/kkondo/T7/dynus/tro_paper/time_allocation/bags/faster_4/num_1/num_1/num_1_0.db3' for READ_ONLY.\n",
      "[INFO] [1735753963.199960009] [rosbag2_storage]: Opened database '/media/kkondo/T7/dynus/tro_paper/time_allocation/bags/faster_4/num_2/num_2/num_2_0.db3' for READ_ONLY.\n",
      "[INFO] [1735753963.892644675] [rosbag2_storage]: Opened database '/media/kkondo/T7/dynus/tro_paper/time_allocation/bags/faster_4/num_3/num_3/num_3_0.db3' for READ_ONLY.\n",
      "[INFO] [1735753964.663166974] [rosbag2_storage]: Opened database '/media/kkondo/T7/dynus/tro_paper/time_allocation/bags/faster_4/num_4/num_4/num_4_0.db3' for READ_ONLY.\n",
      "[INFO] [1735753965.369598100] [rosbag2_storage]: Opened database '/media/kkondo/T7/dynus/tro_paper/time_allocation/bags/faster_4/num_5/num_5/num_5_0.db3' for READ_ONLY.\n",
      "[INFO] [1735753966.121102547] [rosbag2_storage]: Opened database '/media/kkondo/T7/dynus/tro_paper/time_allocation/bags/faster_4/num_6/num_6/num_6_0.db3' for READ_ONLY.\n",
      "[INFO] [1735753966.769731652] [rosbag2_storage]: Opened database '/media/kkondo/T7/dynus/tro_paper/time_allocation/bags/faster_4/num_7/num_7/num_7_0.db3' for READ_ONLY.\n",
      "[INFO] [1735753967.522171219] [rosbag2_storage]: Opened database '/media/kkondo/T7/dynus/tro_paper/time_allocation/bags/faster_4/num_8/num_8/num_8_0.db3' for READ_ONLY.\n",
      "[INFO] [1735753968.184245268] [rosbag2_storage]: Opened database '/media/kkondo/T7/dynus/tro_paper/time_allocation/bags/faster_4/num_9/num_9/num_9_0.db3' for READ_ONLY.\n"
     ]
    },
    {
     "name": "stdout",
     "output_type": "stream",
     "text": [
      "*******************************************************************\n",
      "Algorithm: faster_4\n",
      "Average Travel Time: 36.38 seconds\n",
      "Average Path Length: 102.12 meters\n",
      "*******************************************************************\n"
     ]
    },
    {
     "name": "stderr",
     "output_type": "stream",
     "text": [
      "[INFO] [1735753968.853174057] [rosbag2_storage]: Opened database '/media/kkondo/T7/dynus/tro_paper/time_allocation/bags/faster_5/num_0/num_0/num_0_0.db3' for READ_ONLY.\n",
      "[INFO] [1735753969.607067346] [rosbag2_storage]: Opened database '/media/kkondo/T7/dynus/tro_paper/time_allocation/bags/faster_5/num_1/num_1/num_1_0.db3' for READ_ONLY.\n",
      "[INFO] [1735753970.283888912] [rosbag2_storage]: Opened database '/media/kkondo/T7/dynus/tro_paper/time_allocation/bags/faster_5/num_2/num_2/num_2_0.db3' for READ_ONLY.\n",
      "[INFO] [1735753970.960371184] [rosbag2_storage]: Opened database '/media/kkondo/T7/dynus/tro_paper/time_allocation/bags/faster_5/num_3/num_3/num_3_0.db3' for READ_ONLY.\n",
      "[INFO] [1735753971.656983711] [rosbag2_storage]: Opened database '/media/kkondo/T7/dynus/tro_paper/time_allocation/bags/faster_5/num_4/num_4/num_4_0.db3' for READ_ONLY.\n",
      "[INFO] [1735753972.331513084] [rosbag2_storage]: Opened database '/media/kkondo/T7/dynus/tro_paper/time_allocation/bags/faster_5/num_5/num_5/num_5_0.db3' for READ_ONLY.\n",
      "[INFO] [1735753973.007681987] [rosbag2_storage]: Opened database '/media/kkondo/T7/dynus/tro_paper/time_allocation/bags/faster_5/num_6/num_6/num_6_0.db3' for READ_ONLY.\n",
      "[INFO] [1735753973.673852568] [rosbag2_storage]: Opened database '/media/kkondo/T7/dynus/tro_paper/time_allocation/bags/faster_5/num_7/num_7/num_7_0.db3' for READ_ONLY.\n",
      "[INFO] [1735753974.366267412] [rosbag2_storage]: Opened database '/media/kkondo/T7/dynus/tro_paper/time_allocation/bags/faster_5/num_8/num_8/num_8_0.db3' for READ_ONLY.\n",
      "[INFO] [1735753975.017790113] [rosbag2_storage]: Opened database '/media/kkondo/T7/dynus/tro_paper/time_allocation/bags/faster_5/num_9/num_9/num_9_0.db3' for READ_ONLY.\n"
     ]
    },
    {
     "name": "stdout",
     "output_type": "stream",
     "text": [
      "*******************************************************************\n",
      "Algorithm: faster_5\n",
      "Average Travel Time: 35.46 seconds\n",
      "Average Path Length: 102.34 meters\n",
      "*******************************************************************\n"
     ]
    },
    {
     "name": "stderr",
     "output_type": "stream",
     "text": [
      "[INFO] [1735753975.620087612] [rosbag2_storage]: Opened database '/media/kkondo/T7/dynus/tro_paper/time_allocation/bags/faster_6/num_0/num_0/num_0_0.db3' for READ_ONLY.\n",
      "[INFO] [1735753976.309780236] [rosbag2_storage]: Opened database '/media/kkondo/T7/dynus/tro_paper/time_allocation/bags/faster_6/num_1/num_1/num_1_0.db3' for READ_ONLY.\n",
      "[INFO] [1735753976.970340494] [rosbag2_storage]: Opened database '/media/kkondo/T7/dynus/tro_paper/time_allocation/bags/faster_6/num_2/num_2/num_2_0.db3' for READ_ONLY.\n",
      "[INFO] [1735753977.646109392] [rosbag2_storage]: Opened database '/media/kkondo/T7/dynus/tro_paper/time_allocation/bags/faster_6/num_3/num_3/num_3_0.db3' for READ_ONLY.\n",
      "[INFO] [1735753978.283933457] [rosbag2_storage]: Opened database '/media/kkondo/T7/dynus/tro_paper/time_allocation/bags/faster_6/num_4/num_4/num_4_0.db3' for READ_ONLY.\n",
      "[INFO] [1735753979.017241423] [rosbag2_storage]: Opened database '/media/kkondo/T7/dynus/tro_paper/time_allocation/bags/faster_6/num_5/num_5/num_5_0.db3' for READ_ONLY.\n",
      "[INFO] [1735753979.693802889] [rosbag2_storage]: Opened database '/media/kkondo/T7/dynus/tro_paper/time_allocation/bags/faster_6/num_6/num_6/num_6_0.db3' for READ_ONLY.\n",
      "[INFO] [1735753980.361910451] [rosbag2_storage]: Opened database '/media/kkondo/T7/dynus/tro_paper/time_allocation/bags/faster_6/num_7/num_7/num_7_0.db3' for READ_ONLY.\n",
      "[INFO] [1735753981.076904737] [rosbag2_storage]: Opened database '/media/kkondo/T7/dynus/tro_paper/time_allocation/bags/faster_6/num_8/num_8/num_8_0.db3' for READ_ONLY.\n",
      "[INFO] [1735753981.727621927] [rosbag2_storage]: Opened database '/media/kkondo/T7/dynus/tro_paper/time_allocation/bags/faster_6/num_9/num_9/num_9_0.db3' for READ_ONLY.\n"
     ]
    },
    {
     "name": "stdout",
     "output_type": "stream",
     "text": [
      "*******************************************************************\n",
      "Algorithm: faster_6\n",
      "Average Travel Time: 35.08 seconds\n",
      "Average Path Length: 102.53 meters\n",
      "*******************************************************************\n"
     ]
    }
   ],
   "source": [
    "# Main processing loop (modification to calculate average travel time and path length)\n",
    "base_path = \"/media/kkondo/T7/dynus/tro_paper/time_allocation/bags\"\n",
    "num_bags = 10\n",
    "topic_name = \"/NX01/goal\"\n",
    "message_type = \"dynus_interfaces/msg/Goal\"  # Update with your message type\n",
    "algorithms = [\"liu\", \"faster_4\", \"faster_5\", \"faster_6\"]\n",
    "\n",
    "for algorithm in algorithms:\n",
    "\n",
    "    # Initialize arrays to store data\n",
    "    travel_time_list = []\n",
    "    path_length_list = []\n",
    "\n",
    "    for i in range(num_bags):\n",
    "        bag_path = f\"{base_path}/{algorithm}/num_{i}/num_{i}\"\n",
    "        # print(f\"Processing bag: {bag_path}\")\n",
    "\n",
    "        # Read the bag and extract data\n",
    "        messages = read_ros2_bag(bag_path, topic_name, message_type)\n",
    "\n",
    "        if not messages:\n",
    "            print(f\"No messages found or topic does not exist in {bag_path}.\")\n",
    "            continue\n",
    "        \n",
    "        # Process data\n",
    "        pos, vel, accel, jerk, travel_time = process_goal_data(messages)\n",
    "\n",
    "        # Compute path length\n",
    "        path_length = compute_path_length(pos)\n",
    "\n",
    "        # Append travel time and path length\n",
    "        travel_time_list.append(travel_time)\n",
    "        path_length_list.append(path_length)\n",
    "\n",
    "        # Print the results for each bag\n",
    "        # print(f\"Travel Time: {travel_time:.2f} seconds\")\n",
    "        # print(f\"Path Length: {path_length:.2f} meters\")\n",
    "\n",
    "    # Compute averages\n",
    "    average_travel_time = np.mean(travel_time_list)\n",
    "    average_path_length = np.mean(path_length_list)\n",
    "\n",
    "    print(\"*******************************************************************\")\n",
    "    print(f\"Algorithm: {algorithm}\")\n",
    "    print(f\"Average Travel Time: {average_travel_time:.2f} seconds\")\n",
    "    print(f\"Average Path Length: {average_path_length:.2f} meters\")\n",
    "    print(\"*******************************************************************\")"
   ]
  },
  {
   "cell_type": "code",
   "execution_count": null,
   "metadata": {},
   "outputs": [],
   "source": []
  }
 ],
 "metadata": {
  "kernelspec": {
   "display_name": "dynus",
   "language": "python",
   "name": "python3"
  },
  "language_info": {
   "codemirror_mode": {
    "name": "ipython",
    "version": 3
   },
   "file_extension": ".py",
   "mimetype": "text/x-python",
   "name": "python",
   "nbconvert_exporter": "python",
   "pygments_lexer": "ipython3",
   "version": "3.10.15"
  }
 },
 "nbformat": 4,
 "nbformat_minor": 2
}
