{
 "cells": [
  {
   "cell_type": "code",
   "execution_count": 1,
   "metadata": {},
   "outputs": [],
   "source": [
    "import robotdatapy as rdp"
   ]
  },
  {
   "cell_type": "code",
   "execution_count": null,
   "metadata": {},
   "outputs": [
    {
     "ename": "ImportError",
     "evalue": "/home/kkondo/anaconda3/lib/python3.12/site-packages/zmq/backend/cython/../../../../.././libstdc++.so.6: version `GLIBCXX_3.4.30' not found (required by /lib/libgdal.so.30)",
     "output_type": "error",
     "traceback": [
      "\u001b[0;31m---------------------------------------------------------------------------\u001b[0m",
      "\u001b[0;31mImportError\u001b[0m                               Traceback (most recent call last)",
      "Cell \u001b[0;32mIn[7], line 7\u001b[0m\n\u001b[1;32m      3\u001b[0m output_vid \u001b[38;5;241m=\u001b[39m \u001b[38;5;124m\"\u001b[39m\u001b[38;5;124m/media/kkondo/T7/dynus/visualization/single_agent_performance/big_forest_high_res/test8/bags/dynus/output.mp4\u001b[39m\u001b[38;5;124m\"\u001b[39m\n\u001b[1;32m      6\u001b[0m img_data \u001b[38;5;241m=\u001b[39m rdp\u001b[38;5;241m.\u001b[39mdata\u001b[38;5;241m.\u001b[39mImgData\u001b[38;5;241m.\u001b[39mfrom_bag(bag_path, img_topic, compressed\u001b[38;5;241m=\u001b[39m\u001b[38;5;28;01mFalse\u001b[39;00m)\n\u001b[0;32m----> 7\u001b[0m img_data\u001b[38;5;241m.\u001b[39mshow(img_data\u001b[38;5;241m.\u001b[39mt0)\n\u001b[1;32m      8\u001b[0m img_data\u001b[38;5;241m.\u001b[39mto_mp4(output_vid)\n",
      "File \u001b[0;32m~/anaconda3/lib/python3.12/site-packages/robotdatapy/data/img_data.py:292\u001b[0m, in \u001b[0;36mImgData.show\u001b[0;34m(self, t, ax)\u001b[0m\n\u001b[1;32m    285\u001b[0m \u001b[38;5;28;01mdef\u001b[39;00m \u001b[38;5;21mshow\u001b[39m(\u001b[38;5;28mself\u001b[39m, t, ax\u001b[38;5;241m=\u001b[39m\u001b[38;5;28;01mNone\u001b[39;00m):\n\u001b[1;32m    286\u001b[0m \u001b[38;5;250m    \u001b[39m\u001b[38;5;124;03m\"\"\"\u001b[39;00m\n\u001b[1;32m    287\u001b[0m \u001b[38;5;124;03m    Show image at time t.\u001b[39;00m\n\u001b[1;32m    288\u001b[0m \n\u001b[1;32m    289\u001b[0m \u001b[38;5;124;03m    Args:\u001b[39;00m\n\u001b[1;32m    290\u001b[0m \u001b[38;5;124;03m        t (float): time\u001b[39;00m\n\u001b[1;32m    291\u001b[0m \u001b[38;5;124;03m    \"\"\"\u001b[39;00m\n\u001b[0;32m--> 292\u001b[0m     img \u001b[38;5;241m=\u001b[39m \u001b[38;5;28mself\u001b[39m\u001b[38;5;241m.\u001b[39mimg(t)\n\u001b[1;32m    293\u001b[0m     \u001b[38;5;28;01mif\u001b[39;00m ax \u001b[38;5;129;01mis\u001b[39;00m \u001b[38;5;28;01mNone\u001b[39;00m:\n\u001b[1;32m    294\u001b[0m         _, ax \u001b[38;5;241m=\u001b[39m plt\u001b[38;5;241m.\u001b[39msubplots()\n",
      "File \u001b[0;32m~/anaconda3/lib/python3.12/site-packages/robotdatapy/data/img_data.py:283\u001b[0m, in \u001b[0;36mImgData.img\u001b[0;34m(self, t)\u001b[0m\n\u001b[1;32m    273\u001b[0m \u001b[38;5;250m\u001b[39m\u001b[38;5;124;03m\"\"\"\u001b[39;00m\n\u001b[1;32m    274\u001b[0m \u001b[38;5;124;03mImage at time t.\u001b[39;00m\n\u001b[1;32m    275\u001b[0m \n\u001b[0;32m   (...)\u001b[0m\n\u001b[1;32m    280\u001b[0m \u001b[38;5;124;03m    cv image\u001b[39;00m\n\u001b[1;32m    281\u001b[0m \u001b[38;5;124;03m\"\"\"\u001b[39;00m\n\u001b[1;32m    282\u001b[0m idx \u001b[38;5;241m=\u001b[39m \u001b[38;5;28mself\u001b[39m\u001b[38;5;241m.\u001b[39midx(t)\n\u001b[0;32m--> 283\u001b[0m \u001b[38;5;28;01mreturn\u001b[39;00m \u001b[38;5;28mself\u001b[39m\u001b[38;5;241m.\u001b[39m_load_img(idx)\n",
      "File \u001b[0;32m~/anaconda3/lib/python3.12/site-packages/robotdatapy/data/img_data.py:343\u001b[0m, in \u001b[0;36mImgData._load_img\u001b[0;34m(self, idx)\u001b[0m\n\u001b[1;32m    341\u001b[0m \u001b[38;5;28;01mif\u001b[39;00m \u001b[38;5;28mself\u001b[39m\u001b[38;5;241m.\u001b[39mdata_type \u001b[38;5;241m==\u001b[39m \u001b[38;5;124m'\u001b[39m\u001b[38;5;124mbag\u001b[39m\u001b[38;5;124m'\u001b[39m \u001b[38;5;129;01mor\u001b[39;00m \u001b[38;5;28mself\u001b[39m\u001b[38;5;241m.\u001b[39mdata_type \u001b[38;5;241m==\u001b[39m \u001b[38;5;124m'\u001b[39m\u001b[38;5;124mbag2\u001b[39m\u001b[38;5;124m'\u001b[39m:\n\u001b[1;32m    342\u001b[0m     \u001b[38;5;28;01mif\u001b[39;00m \u001b[38;5;129;01mnot\u001b[39;00m \u001b[38;5;28mself\u001b[39m\u001b[38;5;241m.\u001b[39mcompressed:\n\u001b[0;32m--> 343\u001b[0m         img \u001b[38;5;241m=\u001b[39m \u001b[38;5;28mself\u001b[39m\u001b[38;5;241m.\u001b[39mbridge\u001b[38;5;241m.\u001b[39mimgmsg_to_cv2(\u001b[38;5;28mself\u001b[39m\u001b[38;5;241m.\u001b[39mimgs[idx], desired_encoding\u001b[38;5;241m=\u001b[39m\u001b[38;5;28mself\u001b[39m\u001b[38;5;241m.\u001b[39mcompressed_encoding)\n\u001b[1;32m    344\u001b[0m     \u001b[38;5;28;01melif\u001b[39;00m \u001b[38;5;28mself\u001b[39m\u001b[38;5;241m.\u001b[39mcompressed_rvl:\n\u001b[1;32m    345\u001b[0m         \u001b[38;5;28;01mfrom\u001b[39;00m \u001b[38;5;21;01mrvl\u001b[39;00m \u001b[38;5;28;01mimport\u001b[39;00m decompress_rvl\n",
      "File \u001b[0;32m/opt/ros/humble/local/lib/python3.10/dist-packages/cv_bridge/core.py:169\u001b[0m, in \u001b[0;36mCvBridge.imgmsg_to_cv2\u001b[0;34m(self, img_msg, desired_encoding)\u001b[0m\n\u001b[1;32m    148\u001b[0m \u001b[38;5;250m\u001b[39m\u001b[38;5;124;03m\"\"\"\u001b[39;00m\n\u001b[1;32m    149\u001b[0m \u001b[38;5;124;03mConvert a sensor_msgs::Image message to an OpenCV :cpp:type:`cv::Mat`.\u001b[39;00m\n\u001b[1;32m    150\u001b[0m \n\u001b[0;32m   (...)\u001b[0m\n\u001b[1;32m    166\u001b[0m \u001b[38;5;124;03mIf the image only has one channel, the shape has size 2 (width and height)\u001b[39;00m\n\u001b[1;32m    167\u001b[0m \u001b[38;5;124;03m\"\"\"\u001b[39;00m\n\u001b[1;32m    168\u001b[0m \u001b[38;5;28;01mimport\u001b[39;00m \u001b[38;5;21;01mnumpy\u001b[39;00m \u001b[38;5;28;01mas\u001b[39;00m \u001b[38;5;21;01mnp\u001b[39;00m\n\u001b[0;32m--> 169\u001b[0m dtype, n_channels \u001b[38;5;241m=\u001b[39m \u001b[38;5;28mself\u001b[39m\u001b[38;5;241m.\u001b[39mencoding_to_dtype_with_channels(img_msg\u001b[38;5;241m.\u001b[39mencoding)\n\u001b[1;32m    170\u001b[0m dtype \u001b[38;5;241m=\u001b[39m np\u001b[38;5;241m.\u001b[39mdtype(dtype)\n\u001b[1;32m    171\u001b[0m dtype \u001b[38;5;241m=\u001b[39m dtype\u001b[38;5;241m.\u001b[39mnewbyteorder(\u001b[38;5;124m'\u001b[39m\u001b[38;5;124m>\u001b[39m\u001b[38;5;124m'\u001b[39m \u001b[38;5;28;01mif\u001b[39;00m img_msg\u001b[38;5;241m.\u001b[39mis_bigendian \u001b[38;5;28;01melse\u001b[39;00m \u001b[38;5;124m'\u001b[39m\u001b[38;5;124m<\u001b[39m\u001b[38;5;124m'\u001b[39m)\n",
      "File \u001b[0;32m/opt/ros/humble/local/lib/python3.10/dist-packages/cv_bridge/core.py:104\u001b[0m, in \u001b[0;36mCvBridge.encoding_to_dtype_with_channels\u001b[0;34m(self, encoding)\u001b[0m\n\u001b[1;32m    103\u001b[0m \u001b[38;5;28;01mdef\u001b[39;00m \u001b[38;5;21mencoding_to_dtype_with_channels\u001b[39m(\u001b[38;5;28mself\u001b[39m, encoding):\n\u001b[0;32m--> 104\u001b[0m     \u001b[38;5;28;01mreturn\u001b[39;00m \u001b[38;5;28mself\u001b[39m\u001b[38;5;241m.\u001b[39mcvtype2_to_dtype_with_channels(\u001b[38;5;28mself\u001b[39m\u001b[38;5;241m.\u001b[39mencoding_to_cvtype2(encoding))\n",
      "File \u001b[0;32m/opt/ros/humble/local/lib/python3.10/dist-packages/cv_bridge/core.py:96\u001b[0m, in \u001b[0;36mCvBridge.encoding_to_cvtype2\u001b[0;34m(self, encoding)\u001b[0m\n\u001b[1;32m     95\u001b[0m \u001b[38;5;28;01mdef\u001b[39;00m \u001b[38;5;21mencoding_to_cvtype2\u001b[39m(\u001b[38;5;28mself\u001b[39m, encoding):\n\u001b[0;32m---> 96\u001b[0m     \u001b[38;5;28;01mfrom\u001b[39;00m \u001b[38;5;21;01mcv_bridge\u001b[39;00m\u001b[38;5;21;01m.\u001b[39;00m\u001b[38;5;21;01mboost\u001b[39;00m\u001b[38;5;21;01m.\u001b[39;00m\u001b[38;5;21;01mcv_bridge_boost\u001b[39;00m \u001b[38;5;28;01mimport\u001b[39;00m getCvType\n\u001b[1;32m     98\u001b[0m     \u001b[38;5;28;01mtry\u001b[39;00m:\n\u001b[1;32m     99\u001b[0m         \u001b[38;5;28;01mreturn\u001b[39;00m getCvType(encoding)\n",
      "\u001b[0;31mImportError\u001b[0m: /home/kkondo/anaconda3/lib/python3.12/site-packages/zmq/backend/cython/../../../../.././libstdc++.so.6: version `GLIBCXX_3.4.30' not found (required by /lib/libgdal.so.30)"
     ]
    }
   ],
   "source": [
    "bag_path = \"/media/kkondo/T7/dynus/visualization/single_agent_performance/big_forest_high_res/test8/bags/dynus/num_0\"\n",
    "img_topic = \"/NX01/d435/color/image_raw/compressed\"\n",
    "output_vid = \"/media/kkondo/T7/dynus/visualization/single_agent_performance/big_forest_high_res/test8/bags/dynus/output.mp4\"\n",
    "\n",
    "\n",
    "img_data = rdp.data.ImgData.from_bag(bag_path, img_topic, compressed=True)\n",
    "img_data.show(img_data.t0)\n",
    "img_data.to_mp4(output_vid)"
   ]
  },
  {
   "cell_type": "code",
   "execution_count": null,
   "metadata": {},
   "outputs": [],
   "source": []
  }
 ],
 "metadata": {
  "kernelspec": {
   "display_name": "base",
   "language": "python",
   "name": "python3"
  },
  "language_info": {
   "codemirror_mode": {
    "name": "ipython",
    "version": 3
   },
   "file_extension": ".py",
   "mimetype": "text/x-python",
   "name": "python",
   "nbconvert_exporter": "python",
   "pygments_lexer": "ipython3",
   "version": "3.12.4"
  }
 },
 "nbformat": 4,
 "nbformat_minor": 2
}
